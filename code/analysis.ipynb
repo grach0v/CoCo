{
 "cells": [
  {
   "cell_type": "markdown",
   "metadata": {},
   "source": [
    "# Create dataset "
   ]
  },
  {
   "cell_type": "code",
   "execution_count": null,
   "metadata": {},
   "outputs": [],
   "source": [
    "# Generate examples of 2 types \n",
    "# Very general and useful code\n",
    "# Run model \n",
    "\n",
    "# Please read the source code \n",
    "# I put a lot of effort in it \n",
    "\n",
    "# Uncomment to get new dataset\n",
    "# Taked 10 seconds\n",
    "# ! unzip SDF-JEPA-main.zip\n",
    "# !python generator.py ../configs/simple_sampler.yaml"
   ]
  },
  {
   "cell_type": "markdown",
   "metadata": {},
   "source": [
    "# Load dataset "
   ]
  },
  {
   "cell_type": "code",
   "execution_count": 157,
   "metadata": {},
   "outputs": [],
   "source": [
    "import pandas as pd \n",
    "from ipywidgets import widgets "
   ]
  },
  {
   "cell_type": "code",
   "execution_count": 158,
   "metadata": {},
   "outputs": [
    {
     "data": {
      "text/html": [
       "<div>\n",
       "<style scoped>\n",
       "    .dataframe tbody tr th:only-of-type {\n",
       "        vertical-align: middle;\n",
       "    }\n",
       "\n",
       "    .dataframe tbody tr th {\n",
       "        vertical-align: top;\n",
       "    }\n",
       "\n",
       "    .dataframe thead th {\n",
       "        text-align: right;\n",
       "    }\n",
       "</style>\n",
       "<table border=\"1\" class=\"dataframe\">\n",
       "  <thead>\n",
       "    <tr style=\"text-align: right;\">\n",
       "      <th></th>\n",
       "      <th>filename</th>\n",
       "      <th>prefix</th>\n",
       "      <th>middle</th>\n",
       "      <th>suffix</th>\n",
       "      <th>meta</th>\n",
       "      <th>query</th>\n",
       "      <th>output</th>\n",
       "    </tr>\n",
       "  </thead>\n",
       "  <tbody>\n",
       "    <tr>\n",
       "      <th>0</th>\n",
       "      <td>../data/SDF-JEPA-main/evals/main.py</td>\n",
       "      <td>,\\n    default='configs.yaml')\\nparser.add_arg...</td>\n",
       "      <td>)\\n\\n</td>\n",
       "      <td>import logging\\n    logging.basicConfig()\\...</td>\n",
       "      <td>finish_lines</td>\n",
       "      <td>&lt;fim_prefix&gt;,\\n    default='configs.yaml')\\npa...</td>\n",
       "      <td>)\\n    os.environ['MASTER_ADDR'] = 'localhost'...</td>\n",
       "    </tr>\n",
       "    <tr>\n",
       "      <th>1</th>\n",
       "      <td>../data/SDF-JEPA-main/src/models/vision_transf...</td>\n",
       "      <td>cale(layer.mlp.fc2.weight.data, layer_id + 1)\\...</td>\n",
       "      <td>(remove)\\n        \"\"\"\\n\\n</td>\n",
       "      <td>if masks is not None and not isinstanc...</td>\n",
       "      <td>finish_lines</td>\n",
       "      <td>&lt;fim_prefix&gt;cale(layer.mlp.fc2.weight.data, la...</td>\n",
       "      <td>and mask tokens\\n        :return:\\n        \"\"\"...</td>\n",
       "    </tr>\n",
       "    <tr>\n",
       "      <th>2</th>\n",
       "      <td>../data/SDF-JEPA-main/app/vjepa/train.py</td>\n",
       "      <td>th=dataset_eval_paths,\\n         batch_size=ba...</td>\n",
       "      <td>,\\n         transform=transform,\\n</td>\n",
       "      <td>datasets_weights=datasets_weights,\\n ...</td>\n",
       "      <td>finish_lines</td>\n",
       "      <td>&lt;fim_prefix&gt;th=dataset_eval_paths,\\n         b...</td>\n",
       "      <td>_per_video,\\n         num_clips_per_clip=num_c...</td>\n",
       "    </tr>\n",
       "    <tr>\n",
       "      <th>3</th>\n",
       "      <td>../data/SDF-JEPA-main/src/models/utils/patch_e...</td>\n",
       "      <td>roj = nn.Conv2d(in_chans, embed_dim, kernel_si...</td>\n",
       "      <td>(\\n        self,\\n        patch_size=16,\\n</td>\n",
       "      <td>tubelet_size=2,\\n        in_chans=3,\\n...</td>\n",
       "      <td>finish_lines</td>\n",
       "      <td>&lt;fim_prefix&gt;roj = nn.Conv2d(in_chans, embed_di...</td>\n",
       "      <td>(self, in_chans, embed_dim):\\n        super()....</td>\n",
       "    </tr>\n",
       "    <tr>\n",
       "      <th>4</th>\n",
       "      <td>../data/SDF-JEPA-main/src/models/utils/multima...</td>\n",
       "      <td>outs = []\\n        for m in masks:\\n        ...</td>\n",
       "      <td>):\\n        if type(ctxt) is not list:\\n      ...</td>\n",
       "      <td>if type(tgt) is not list:\\n           ...</td>\n",
       "      <td>finish_lines</td>\n",
       "      <td>&lt;fim_prefix&gt;  outs = []\\n        for m in mask...</td>\n",
       "      <td>):\\n        ctxt = [self.backbone(x, masks=m) ...</td>\n",
       "    </tr>\n",
       "  </tbody>\n",
       "</table>\n",
       "</div>"
      ],
      "text/plain": [
       "                                            filename  \\\n",
       "0                ../data/SDF-JEPA-main/evals/main.py   \n",
       "1  ../data/SDF-JEPA-main/src/models/vision_transf...   \n",
       "2           ../data/SDF-JEPA-main/app/vjepa/train.py   \n",
       "3  ../data/SDF-JEPA-main/src/models/utils/patch_e...   \n",
       "4  ../data/SDF-JEPA-main/src/models/utils/multima...   \n",
       "\n",
       "                                              prefix  \\\n",
       "0  ,\\n    default='configs.yaml')\\nparser.add_arg...   \n",
       "1  cale(layer.mlp.fc2.weight.data, layer_id + 1)\\...   \n",
       "2  th=dataset_eval_paths,\\n         batch_size=ba...   \n",
       "3  roj = nn.Conv2d(in_chans, embed_dim, kernel_si...   \n",
       "4    outs = []\\n        for m in masks:\\n        ...   \n",
       "\n",
       "                                              middle  \\\n",
       "0                                              )\\n\\n   \n",
       "1                          (remove)\\n        \"\"\"\\n\\n   \n",
       "2                 ,\\n         transform=transform,\\n   \n",
       "3         (\\n        self,\\n        patch_size=16,\\n   \n",
       "4  ):\\n        if type(ctxt) is not list:\\n      ...   \n",
       "\n",
       "                                              suffix          meta  \\\n",
       "0      import logging\\n    logging.basicConfig()\\...  finish_lines   \n",
       "1          if masks is not None and not isinstanc...  finish_lines   \n",
       "2           datasets_weights=datasets_weights,\\n ...  finish_lines   \n",
       "3          tubelet_size=2,\\n        in_chans=3,\\n...  finish_lines   \n",
       "4          if type(tgt) is not list:\\n           ...  finish_lines   \n",
       "\n",
       "                                               query  \\\n",
       "0  <fim_prefix>,\\n    default='configs.yaml')\\npa...   \n",
       "1  <fim_prefix>cale(layer.mlp.fc2.weight.data, la...   \n",
       "2  <fim_prefix>th=dataset_eval_paths,\\n         b...   \n",
       "3  <fim_prefix>roj = nn.Conv2d(in_chans, embed_di...   \n",
       "4  <fim_prefix>  outs = []\\n        for m in mask...   \n",
       "\n",
       "                                              output  \n",
       "0  )\\n    os.environ['MASTER_ADDR'] = 'localhost'...  \n",
       "1  and mask tokens\\n        :return:\\n        \"\"\"...  \n",
       "2  _per_video,\\n         num_clips_per_clip=num_c...  \n",
       "3  (self, in_chans, embed_dim):\\n        super()....  \n",
       "4  ):\\n        ctxt = [self.backbone(x, masks=m) ...  "
      ]
     },
     "execution_count": 158,
     "metadata": {},
     "output_type": "execute_result"
    }
   ],
   "source": [
    "df = pd.read_parquet('../data/prepared.parquet')\n",
    "df.head()"
   ]
  },
  {
   "cell_type": "code",
   "execution_count": 159,
   "metadata": {},
   "outputs": [],
   "source": [
    "from IPython.display import HTML\n",
    "import ipywidgets as widgets\n",
    "\n",
    "def format_text(prefix, middle, suffix):\n",
    "    # Replace \\n with <br> for HTML line breaks\n",
    "    prefix = prefix.replace('\\n', '<br>')\n",
    "    middle = middle.replace('\\n', '<br>')\n",
    "    suffix = suffix.replace('\\n', '<br>')\n",
    "\n",
    "    # Replace \\t with a series of non-breaking spaces for HTML tabs\n",
    "    prefix = prefix.replace('\\t', '&nbsp;' * 4)\n",
    "    middle = middle.replace('\\t', '&nbsp;' * 4)\n",
    "    suffix = suffix.replace('\\t', '&nbsp;' * 4)\n",
    "\n",
    "    return f\"<pre>{prefix}<span style='color:red'>{middle}</span>{suffix}</pre>\"\n",
    "\n",
    "def create_widget(prefix, middle, suffix, output):\n",
    "\n",
    "    output_true = widgets.Output()\n",
    "    with output_true:\n",
    "        display(HTML(format_text(prefix, middle, suffix)))\n",
    "\n",
    "    output_pred = widgets.Output()\n",
    "    with output_pred:\n",
    "        display(HTML(format_text(prefix, output, suffix)))\n",
    "\n",
    "    # Create titles\n",
    "    title_true = widgets.HTML(\"<h3>True</h3>\")\n",
    "    title_pred = widgets.HTML(\"<h3>Predicted</h3>\")\n",
    "\n",
    "    # Stack titles and outputs vertically\n",
    "    column_true = widgets.VBox([title_true, output_true])\n",
    "    column_pred = widgets.VBox([title_pred, output_pred])\n",
    "\n",
    "    # Add space between columns\n",
    "    column_true.layout.margin = '0 20px 0 0'  # 20px right margin for the first column\n",
    "\n",
    "    two_columns = widgets.HBox([column_true, column_pred])\n",
    "\n",
    "    return two_columns"
   ]
  },
  {
   "cell_type": "markdown",
   "metadata": {},
   "source": [
    "Let's look 5 random examples from both strategies "
   ]
  },
  {
   "cell_type": "markdown",
   "metadata": {},
   "source": [
    "## Finish Lines\n",
    "Finish lines strategy tries to predict 1-2 lines,  \n",
    "when user finished typing specific token.  \n",
    "This could be predicting after \",\" or \".\" or \")\"  \n",
    "For the full list and more precise behaviour please read the config at source code"
   ]
  },
  {
   "cell_type": "code",
   "execution_count": 160,
   "metadata": {},
   "outputs": [],
   "source": [
    "finish_lines_df = df.query('meta == \"finish_lines\"').sample(5, random_state=123).reset_index().drop('index', axis=1)\n",
    "finish_lines_df['subjective_score'] = None"
   ]
  },
  {
   "cell_type": "code",
   "execution_count": 161,
   "metadata": {},
   "outputs": [
    {
     "data": {
      "application/vnd.jupyter.widget-view+json": {
       "model_id": "c177ca38066e4600ab765d4202f7d09f",
       "version_major": 2,
       "version_minor": 0
      },
      "text/plain": [
       "HBox(children=(VBox(children=(HTML(value='<h3>True</h3>'), Output()), layout=Layout(margin='0 20px 0 0')), VBo…"
      ]
     },
     "metadata": {},
     "output_type": "display_data"
    }
   ],
   "source": [
    "widget = create_widget(*finish_lines_df.loc[0, ['prefix', 'middle', 'suffix', 'output']])\n",
    "display(widget)"
   ]
  },
  {
   "cell_type": "markdown",
   "metadata": {},
   "source": [
    "### Good: \n",
    "- predicted argv correcly \n",
    "- started loop correctly\n",
    "\n",
    "### Bad \n",
    "- Didn't take into account that i is compared to len, thus should start enumerate from 1\n",
    "- Created random function \n",
    "\n",
    "### Overall subjective score\n",
    "3 / 10"
   ]
  },
  {
   "cell_type": "code",
   "execution_count": 162,
   "metadata": {},
   "outputs": [],
   "source": [
    "finish_lines_df.loc[0, 'subjective_score'] = 3"
   ]
  },
  {
   "cell_type": "code",
   "execution_count": 163,
   "metadata": {},
   "outputs": [
    {
     "data": {
      "application/vnd.jupyter.widget-view+json": {
       "model_id": "52a39dbfbbcb4bfdbfbb606bfad96b74",
       "version_major": 2,
       "version_minor": 0
      },
      "text/plain": [
       "HBox(children=(VBox(children=(HTML(value='<h3>True</h3>'), Output()), layout=Layout(margin='0 20px 0 0')), VBo…"
      ]
     },
     "metadata": {},
     "output_type": "display_data"
    }
   ],
   "source": [
    "widget = create_widget(*finish_lines_df.loc[1, ['prefix', 'middle', 'suffix', 'output']])\n",
    "display(widget)"
   ]
  },
  {
   "cell_type": "markdown",
   "metadata": {},
   "source": [
    "Unfortunetly not great example, because it's just a comma  \n",
    "### Good \n",
    "- Comma \n",
    "### Bad \n",
    "- Broken grammar\n",
    "- Stupid repeated params\n",
    "\n",
    "### Overall subjective score\n",
    "1 / 10"
   ]
  },
  {
   "cell_type": "code",
   "execution_count": 164,
   "metadata": {},
   "outputs": [],
   "source": [
    "finish_lines_df.loc[1, 'subjective_score'] = 1"
   ]
  },
  {
   "cell_type": "code",
   "execution_count": 165,
   "metadata": {},
   "outputs": [
    {
     "data": {
      "application/vnd.jupyter.widget-view+json": {
       "model_id": "6aaa5b26762142cd861e99eb37648ff8",
       "version_major": 2,
       "version_minor": 0
      },
      "text/plain": [
       "HBox(children=(VBox(children=(HTML(value='<h3>True</h3>'), Output()), layout=Layout(margin='0 20px 0 0')), VBo…"
      ]
     },
     "metadata": {},
     "output_type": "display_data"
    }
   ],
   "source": [
    "widget = create_widget(*finish_lines_df.loc[2, ['prefix', 'middle', 'suffix', 'output']])\n",
    "display(widget)"
   ]
  },
  {
   "cell_type": "markdown",
   "metadata": {},
   "source": [
    "### Good \n",
    "- Correcly finished method header \n",
    "\n",
    "### Bad \n",
    "- Did nonesence to passed params \n",
    "\n",
    "### Overall subjective score \n",
    "2 / 10"
   ]
  },
  {
   "cell_type": "code",
   "execution_count": 166,
   "metadata": {},
   "outputs": [],
   "source": [
    "finish_lines_df.loc[2, 'subjective_score'] = 2"
   ]
  },
  {
   "cell_type": "code",
   "execution_count": 167,
   "metadata": {},
   "outputs": [
    {
     "data": {
      "application/vnd.jupyter.widget-view+json": {
       "model_id": "e2430bc61aac41d6b4b7c46076047fea",
       "version_major": 2,
       "version_minor": 0
      },
      "text/plain": [
       "HBox(children=(VBox(children=(HTML(value='<h3>True</h3>'), Output()), layout=Layout(margin='0 20px 0 0')), VBo…"
      ]
     },
     "metadata": {},
     "output_type": "display_data"
    }
   ],
   "source": [
    "widget = create_widget(*finish_lines_df.loc[3, ['prefix', 'middle', 'suffix', 'output']])\n",
    "display(widget)"
   ]
  },
  {
   "cell_type": "markdown",
   "metadata": {},
   "source": [
    "### Good \n",
    "- Looks plausable \n",
    "- Almost correct\n",
    "\n",
    "### Bad \n",
    "- Wrong and unnecessary second argument \n",
    "\n",
    "### Overall subjective score \n",
    "4 / 10"
   ]
  },
  {
   "cell_type": "code",
   "execution_count": 168,
   "metadata": {},
   "outputs": [],
   "source": [
    "finish_lines_df.loc[3, 'subjective_score'] = 4"
   ]
  },
  {
   "cell_type": "code",
   "execution_count": 169,
   "metadata": {},
   "outputs": [
    {
     "data": {
      "application/vnd.jupyter.widget-view+json": {
       "model_id": "340b24ee833b440b938f7c9724640446",
       "version_major": 2,
       "version_minor": 0
      },
      "text/plain": [
       "HBox(children=(VBox(children=(HTML(value='<h3>True</h3>'), Output()), layout=Layout(margin='0 20px 0 0')), VBo…"
      ]
     },
     "metadata": {},
     "output_type": "display_data"
    }
   ],
   "source": [
    "widget = create_widget(*finish_lines_df.loc[4, ['prefix', 'middle', 'suffix', 'output']])\n",
    "display(widget)"
   ]
  },
  {
   "cell_type": "markdown",
   "metadata": {},
   "source": [
    "### Good\n",
    "- Correctly created argument\n",
    "\n",
    "### Bad \n",
    "- Not what intended \n",
    "- Wrong second arg\n",
    "\n",
    "### Overall subjective score \n",
    "3 / 10"
   ]
  },
  {
   "cell_type": "code",
   "execution_count": 170,
   "metadata": {},
   "outputs": [],
   "source": [
    "finish_lines_df.loc[4, 'subjective_score'] = 3"
   ]
  },
  {
   "cell_type": "markdown",
   "metadata": {},
   "source": [
    "## Finish Words\n",
    "\n",
    "Finish words strategy tries to predict a few words after user started typing one word. "
   ]
  },
  {
   "cell_type": "code",
   "execution_count": 171,
   "metadata": {},
   "outputs": [],
   "source": [
    "finish_words_df = df.query('meta == \"finish_words\"').sample(5, random_state=123).reset_index().drop('index', axis=1)"
   ]
  },
  {
   "cell_type": "code",
   "execution_count": 172,
   "metadata": {},
   "outputs": [],
   "source": [
    "finish_words_df['subjective_score'] = None"
   ]
  },
  {
   "cell_type": "code",
   "execution_count": 173,
   "metadata": {},
   "outputs": [
    {
     "data": {
      "application/vnd.jupyter.widget-view+json": {
       "model_id": "7c075cce8d0d4367807ba8c44c8d6ddb",
       "version_major": 2,
       "version_minor": 0
      },
      "text/plain": [
       "HBox(children=(VBox(children=(HTML(value='<h3>True</h3>'), Output()), layout=Layout(margin='0 20px 0 0')), VBo…"
      ]
     },
     "metadata": {},
     "output_type": "display_data"
    }
   ],
   "source": [
    "widget = create_widget(*finish_words_df.loc[0, ['prefix', 'middle', 'suffix', 'output']])\n",
    "display(widget)"
   ]
  },
  {
   "cell_type": "markdown",
   "metadata": {},
   "source": [
    "### Good \n",
    "- Basically correct grammar \n",
    "\n",
    "### Bad \n",
    "- Did nonesence \n",
    "  \n",
    "### Overall subjective score \n",
    "2 / 10"
   ]
  },
  {
   "cell_type": "code",
   "execution_count": 174,
   "metadata": {},
   "outputs": [],
   "source": [
    "finish_words_df.loc[0, 'subjective_score'] = 2"
   ]
  },
  {
   "cell_type": "code",
   "execution_count": 175,
   "metadata": {},
   "outputs": [
    {
     "data": {
      "application/vnd.jupyter.widget-view+json": {
       "model_id": "f400608297f94704968cfcb1ed113ae1",
       "version_major": 2,
       "version_minor": 0
      },
      "text/plain": [
       "HBox(children=(VBox(children=(HTML(value='<h3>True</h3>'), Output()), layout=Layout(margin='0 20px 0 0')), VBo…"
      ]
     },
     "metadata": {},
     "output_type": "display_data"
    }
   ],
   "source": [
    "widget = create_widget(*finish_words_df.loc[1, ['prefix', 'middle', 'suffix', 'output']])\n",
    "display(widget)"
   ]
  },
  {
   "cell_type": "markdown",
   "metadata": {},
   "source": [
    "### Good\n",
    "- Nothing \n",
    "\n",
    "### Bad \n",
    "- Wrong args \n",
    "- Wrong grammar  \n",
    "\n",
    "### Overall subjective score \n",
    "2 / 10"
   ]
  },
  {
   "cell_type": "code",
   "execution_count": 176,
   "metadata": {},
   "outputs": [],
   "source": [
    "finish_words_df.loc[1, 'subjective_score'] = 2"
   ]
  },
  {
   "cell_type": "code",
   "execution_count": 177,
   "metadata": {},
   "outputs": [
    {
     "data": {
      "application/vnd.jupyter.widget-view+json": {
       "model_id": "d87db9d4096b46d3b6cf1bbe6ffa29f7",
       "version_major": 2,
       "version_minor": 0
      },
      "text/plain": [
       "HBox(children=(VBox(children=(HTML(value='<h3>True</h3>'), Output()), layout=Layout(margin='0 20px 0 0')), VBo…"
      ]
     },
     "metadata": {},
     "output_type": "display_data"
    }
   ],
   "source": [
    "widget = create_widget(*finish_words_df.loc[2, ['prefix', 'middle', 'suffix', 'output']])\n",
    "display(widget)"
   ]
  },
  {
   "cell_type": "markdown",
   "metadata": {},
   "source": [
    "### Good \n",
    "- Correct\n",
    "\n",
    "### Bad \n",
    "- Slightly more than required \n",
    "\n",
    "### Overall subjective score \n",
    "9 / 10"
   ]
  },
  {
   "cell_type": "code",
   "execution_count": 178,
   "metadata": {},
   "outputs": [],
   "source": [
    "finish_words_df.loc[2, 'subjective_score'] = 9"
   ]
  },
  {
   "cell_type": "code",
   "execution_count": 179,
   "metadata": {},
   "outputs": [
    {
     "data": {
      "application/vnd.jupyter.widget-view+json": {
       "model_id": "71af4545b71b4ae18b7ace3d828e3c0b",
       "version_major": 2,
       "version_minor": 0
      },
      "text/plain": [
       "HBox(children=(VBox(children=(HTML(value='<h3>True</h3>'), Output()), layout=Layout(margin='0 20px 0 0')), VBo…"
      ]
     },
     "metadata": {},
     "output_type": "display_data"
    }
   ],
   "source": [
    "widget = create_widget(*finish_words_df.loc[3, ['prefix', 'middle', 'suffix', 'output']])\n",
    "display(widget)"
   ]
  },
  {
   "cell_type": "markdown",
   "metadata": {},
   "source": [
    "### Good \n",
    "- Plausable continuation\n",
    "- Almost correcrt grammar \n",
    "\n",
    "### Bad \n",
    "- Not correct \n",
    "\n",
    "### Overall subjective score \n",
    "6 / 10 "
   ]
  },
  {
   "cell_type": "code",
   "execution_count": 180,
   "metadata": {},
   "outputs": [],
   "source": [
    "finish_words_df.loc[3, 'subjective_score'] = 6"
   ]
  },
  {
   "cell_type": "code",
   "execution_count": 181,
   "metadata": {},
   "outputs": [
    {
     "data": {
      "application/vnd.jupyter.widget-view+json": {
       "model_id": "cf537c6f5a1c429ba6dadc247c499ef5",
       "version_major": 2,
       "version_minor": 0
      },
      "text/plain": [
       "HBox(children=(VBox(children=(HTML(value='<h3>True</h3>'), Output()), layout=Layout(margin='0 20px 0 0')), VBo…"
      ]
     },
     "metadata": {},
     "output_type": "display_data"
    }
   ],
   "source": [
    "widget = create_widget(*finish_words_df.loc[4, ['prefix', 'middle', 'suffix', 'output']])\n",
    "display(widget)"
   ]
  },
  {
   "cell_type": "markdown",
   "metadata": {},
   "source": [
    "### Good \n",
    "- Almost plausable \n",
    "\n",
    "### Bad \n",
    "- Not correct \n",
    "\n",
    "### Overall subjective score\n",
    "4 / 10"
   ]
  },
  {
   "cell_type": "code",
   "execution_count": 182,
   "metadata": {},
   "outputs": [],
   "source": [
    "finish_words_df.loc[4, 'subjective_score'] = 4"
   ]
  },
  {
   "cell_type": "markdown",
   "metadata": {},
   "source": [
    "# Metrics \n",
    "\n",
    "Hypothesis: \n",
    "Predicting after a word was started is much better, than after a comma or any other separator "
   ]
  },
  {
   "cell_type": "code",
   "execution_count": 215,
   "metadata": {},
   "outputs": [],
   "source": [
    "from codebleu import calc_codebleu\n",
    "from nltk.translate.bleu_score import sentence_bleu\n",
    "from sacrebleu.metrics import BLEU, CHRF, TER\n",
    "import plotly.express as px\n",
    "import re"
   ]
  },
  {
   "cell_type": "code",
   "execution_count": 216,
   "metadata": {},
   "outputs": [],
   "source": [
    "bleu = BLEU()\n",
    "chrf = CHRF()\n",
    "ter = TER()"
   ]
  },
  {
   "cell_type": "code",
   "execution_count": 185,
   "metadata": {},
   "outputs": [],
   "source": [
    "def calc_metrics(df):\n",
    "    df = df.copy()\n",
    "\n",
    "    df['e_match'] = (df['output'] == df['middle']).astype(float)\n",
    "\n",
    "    df['bleu'] = [\n",
    "        bleu.corpus_score([o], [[m]],).score\n",
    "        for m, o in zip(df['middle'], df['output'])\n",
    "    ]\n",
    "\n",
    "    df['chrf'] = [\n",
    "        chrf.corpus_score([o], [[m]]).score\n",
    "        for m, o in zip(df['middle'], df['output'])\n",
    "    ]\n",
    "\n",
    "    df['ter'] = [\n",
    "        ter.corpus_score([o], [[m]]).score\n",
    "        for m, o in zip(df['middle'], df['output'])\n",
    "    ]\n",
    "\n",
    "    df['codebleu'] = [\n",
    "        calc_codebleu([m], [o], lang='python')['codebleu']\n",
    "        for m, o in zip(df['middle'], df['output'])\n",
    "    ]\n",
    "\n",
    "    return df"
   ]
  },
  {
   "cell_type": "code",
   "execution_count": 186,
   "metadata": {},
   "outputs": [
    {
     "name": "stderr",
     "output_type": "stream",
     "text": [
      "WARNING:root:WARNING: There is no reference data-flows extracted from the whole corpus, and the data-flow match score degenerates to 0. Please consider ignoring this score.\n",
      "WARNING:root:WARNING: There is no reference data-flows extracted from the whole corpus, and the data-flow match score degenerates to 0. Please consider ignoring this score.\n",
      "WARNING:root:WARNING: There is no reference data-flows extracted from the whole corpus, and the data-flow match score degenerates to 0. Please consider ignoring this score.\n",
      "WARNING:root:WARNING: There is no reference data-flows extracted from the whole corpus, and the data-flow match score degenerates to 0. Please consider ignoring this score.\n",
      "WARNING:root:WARNING: There is no reference data-flows extracted from the whole corpus, and the data-flow match score degenerates to 0. Please consider ignoring this score.\n",
      "WARNING:root:WARNING: There is no reference data-flows extracted from the whole corpus, and the data-flow match score degenerates to 0. Please consider ignoring this score.\n",
      "WARNING:root:WARNING: There is no reference data-flows extracted from the whole corpus, and the data-flow match score degenerates to 0. Please consider ignoring this score.\n",
      "WARNING:root:WARNING: There is no reference data-flows extracted from the whole corpus, and the data-flow match score degenerates to 0. Please consider ignoring this score.\n",
      "WARNING:root:WARNING: There is no reference data-flows extracted from the whole corpus, and the data-flow match score degenerates to 0. Please consider ignoring this score.\n",
      "WARNING:root:WARNING: There is no reference data-flows extracted from the whole corpus, and the data-flow match score degenerates to 0. Please consider ignoring this score.\n",
      "WARNING:root:WARNING: There is no reference data-flows extracted from the whole corpus, and the data-flow match score degenerates to 0. Please consider ignoring this score.\n",
      "WARNING:root:WARNING: There is no reference data-flows extracted from the whole corpus, and the data-flow match score degenerates to 0. Please consider ignoring this score.\n",
      "WARNING:root:WARNING: There is no reference data-flows extracted from the whole corpus, and the data-flow match score degenerates to 0. Please consider ignoring this score.\n",
      "WARNING:root:WARNING: There is no reference data-flows extracted from the whole corpus, and the data-flow match score degenerates to 0. Please consider ignoring this score.\n",
      "WARNING:root:WARNING: There is no reference data-flows extracted from the whole corpus, and the data-flow match score degenerates to 0. Please consider ignoring this score.\n",
      "WARNING:root:WARNING: There is no reference data-flows extracted from the whole corpus, and the data-flow match score degenerates to 0. Please consider ignoring this score.\n",
      "WARNING:root:WARNING: There is no reference data-flows extracted from the whole corpus, and the data-flow match score degenerates to 0. Please consider ignoring this score.\n",
      "WARNING:root:WARNING: There is no reference data-flows extracted from the whole corpus, and the data-flow match score degenerates to 0. Please consider ignoring this score.\n",
      "WARNING:root:WARNING: There is no reference data-flows extracted from the whole corpus, and the data-flow match score degenerates to 0. Please consider ignoring this score.\n",
      "WARNING:root:WARNING: There is no reference data-flows extracted from the whole corpus, and the data-flow match score degenerates to 0. Please consider ignoring this score.\n",
      "WARNING:root:WARNING: There is no reference data-flows extracted from the whole corpus, and the data-flow match score degenerates to 0. Please consider ignoring this score.\n",
      "WARNING:root:WARNING: There is no reference data-flows extracted from the whole corpus, and the data-flow match score degenerates to 0. Please consider ignoring this score.\n"
     ]
    }
   ],
   "source": [
    "df = calc_metrics(df)\n",
    "df_small = calc_metrics(pd.concat([finish_lines_df, finish_words_df], ignore_index=True))"
   ]
  },
  {
   "cell_type": "code",
   "execution_count": 187,
   "metadata": {},
   "outputs": [],
   "source": [
    "metrics = ['e_match', 'bleu', 'chrf', 'ter', 'codebleu']"
   ]
  },
  {
   "cell_type": "code",
   "execution_count": 188,
   "metadata": {},
   "outputs": [
    {
     "data": {
      "text/html": [
       "<div>\n",
       "<style scoped>\n",
       "    .dataframe tbody tr th:only-of-type {\n",
       "        vertical-align: middle;\n",
       "    }\n",
       "\n",
       "    .dataframe tbody tr th {\n",
       "        vertical-align: top;\n",
       "    }\n",
       "\n",
       "    .dataframe thead th {\n",
       "        text-align: right;\n",
       "    }\n",
       "</style>\n",
       "<table border=\"1\" class=\"dataframe\">\n",
       "  <thead>\n",
       "    <tr style=\"text-align: right;\">\n",
       "      <th></th>\n",
       "      <th>e_match</th>\n",
       "      <th>bleu</th>\n",
       "      <th>chrf</th>\n",
       "      <th>ter</th>\n",
       "      <th>codebleu</th>\n",
       "    </tr>\n",
       "  </thead>\n",
       "  <tbody>\n",
       "    <tr>\n",
       "      <th>count</th>\n",
       "      <td>40.000000</td>\n",
       "      <td>40.000000</td>\n",
       "      <td>40.000000</td>\n",
       "      <td>40.000000</td>\n",
       "      <td>40.000000</td>\n",
       "    </tr>\n",
       "    <tr>\n",
       "      <th>mean</th>\n",
       "      <td>0.025000</td>\n",
       "      <td>12.155524</td>\n",
       "      <td>26.464994</td>\n",
       "      <td>210.733337</td>\n",
       "      <td>0.284302</td>\n",
       "    </tr>\n",
       "    <tr>\n",
       "      <th>std</th>\n",
       "      <td>0.158114</td>\n",
       "      <td>18.017568</td>\n",
       "      <td>19.048590</td>\n",
       "      <td>231.253995</td>\n",
       "      <td>0.174144</td>\n",
       "    </tr>\n",
       "    <tr>\n",
       "      <th>min</th>\n",
       "      <td>0.000000</td>\n",
       "      <td>0.000000</td>\n",
       "      <td>2.597403</td>\n",
       "      <td>0.000000</td>\n",
       "      <td>0.046696</td>\n",
       "    </tr>\n",
       "    <tr>\n",
       "      <th>25%</th>\n",
       "      <td>0.000000</td>\n",
       "      <td>3.514005</td>\n",
       "      <td>14.311302</td>\n",
       "      <td>92.656250</td>\n",
       "      <td>0.168171</td>\n",
       "    </tr>\n",
       "    <tr>\n",
       "      <th>50%</th>\n",
       "      <td>0.000000</td>\n",
       "      <td>6.179192</td>\n",
       "      <td>22.452971</td>\n",
       "      <td>105.555556</td>\n",
       "      <td>0.272017</td>\n",
       "    </tr>\n",
       "    <tr>\n",
       "      <th>75%</th>\n",
       "      <td>0.000000</td>\n",
       "      <td>11.577372</td>\n",
       "      <td>34.084185</td>\n",
       "      <td>275.000000</td>\n",
       "      <td>0.333820</td>\n",
       "    </tr>\n",
       "    <tr>\n",
       "      <th>max</th>\n",
       "      <td>1.000000</td>\n",
       "      <td>100.000000</td>\n",
       "      <td>100.000000</td>\n",
       "      <td>1300.000000</td>\n",
       "      <td>1.000000</td>\n",
       "    </tr>\n",
       "  </tbody>\n",
       "</table>\n",
       "</div>"
      ],
      "text/plain": [
       "         e_match        bleu        chrf          ter   codebleu\n",
       "count  40.000000   40.000000   40.000000    40.000000  40.000000\n",
       "mean    0.025000   12.155524   26.464994   210.733337   0.284302\n",
       "std     0.158114   18.017568   19.048590   231.253995   0.174144\n",
       "min     0.000000    0.000000    2.597403     0.000000   0.046696\n",
       "25%     0.000000    3.514005   14.311302    92.656250   0.168171\n",
       "50%     0.000000    6.179192   22.452971   105.555556   0.272017\n",
       "75%     0.000000   11.577372   34.084185   275.000000   0.333820\n",
       "max     1.000000  100.000000  100.000000  1300.000000   1.000000"
      ]
     },
     "execution_count": 188,
     "metadata": {},
     "output_type": "execute_result"
    }
   ],
   "source": [
    "df[metrics].describe()"
   ]
  },
  {
   "cell_type": "code",
   "execution_count": 189,
   "metadata": {},
   "outputs": [
    {
     "data": {
      "text/html": [
       "<div>\n",
       "<style scoped>\n",
       "    .dataframe tbody tr th:only-of-type {\n",
       "        vertical-align: middle;\n",
       "    }\n",
       "\n",
       "    .dataframe tbody tr th {\n",
       "        vertical-align: top;\n",
       "    }\n",
       "\n",
       "    .dataframe thead th {\n",
       "        text-align: right;\n",
       "    }\n",
       "</style>\n",
       "<table border=\"1\" class=\"dataframe\">\n",
       "  <thead>\n",
       "    <tr style=\"text-align: right;\">\n",
       "      <th></th>\n",
       "      <th>e_match</th>\n",
       "      <th>bleu</th>\n",
       "      <th>chrf</th>\n",
       "      <th>ter</th>\n",
       "      <th>codebleu</th>\n",
       "    </tr>\n",
       "  </thead>\n",
       "  <tbody>\n",
       "    <tr>\n",
       "      <th>e_match</th>\n",
       "      <td>1.00</td>\n",
       "      <td>0.79</td>\n",
       "      <td>0.63</td>\n",
       "      <td>-0.15</td>\n",
       "      <td>0.67</td>\n",
       "    </tr>\n",
       "    <tr>\n",
       "      <th>bleu</th>\n",
       "      <td>0.79</td>\n",
       "      <td>1.00</td>\n",
       "      <td>0.89</td>\n",
       "      <td>-0.26</td>\n",
       "      <td>0.72</td>\n",
       "    </tr>\n",
       "    <tr>\n",
       "      <th>chrf</th>\n",
       "      <td>0.63</td>\n",
       "      <td>0.89</td>\n",
       "      <td>1.00</td>\n",
       "      <td>-0.32</td>\n",
       "      <td>0.58</td>\n",
       "    </tr>\n",
       "    <tr>\n",
       "      <th>ter</th>\n",
       "      <td>-0.15</td>\n",
       "      <td>-0.26</td>\n",
       "      <td>-0.32</td>\n",
       "      <td>1.00</td>\n",
       "      <td>0.05</td>\n",
       "    </tr>\n",
       "    <tr>\n",
       "      <th>codebleu</th>\n",
       "      <td>0.67</td>\n",
       "      <td>0.72</td>\n",
       "      <td>0.58</td>\n",
       "      <td>0.05</td>\n",
       "      <td>1.00</td>\n",
       "    </tr>\n",
       "  </tbody>\n",
       "</table>\n",
       "</div>"
      ],
      "text/plain": [
       "          e_match  bleu  chrf   ter  codebleu\n",
       "e_match      1.00  0.79  0.63 -0.15      0.67\n",
       "bleu         0.79  1.00  0.89 -0.26      0.72\n",
       "chrf         0.63  0.89  1.00 -0.32      0.58\n",
       "ter         -0.15 -0.26 -0.32  1.00      0.05\n",
       "codebleu     0.67  0.72  0.58  0.05      1.00"
      ]
     },
     "execution_count": 189,
     "metadata": {},
     "output_type": "execute_result"
    }
   ],
   "source": [
    "df[metrics].corr().round(2)"
   ]
  },
  {
   "cell_type": "markdown",
   "metadata": {},
   "source": [
    "All metrics have non 0 values and correlation  \n",
    "ter as expected has negative correlation with other metrics "
   ]
  },
  {
   "cell_type": "code",
   "execution_count": 190,
   "metadata": {},
   "outputs": [
    {
     "data": {
      "application/vnd.plotly.v1+json": {
       "config": {
        "plotlyServerURL": "https://plot.ly"
       },
       "data": [
        {
         "alignmentgroup": "True",
         "hovertemplate": "meta=finish_lines<br>metric=%{x}<br>value=%{y}<extra></extra>",
         "legendgroup": "finish_lines",
         "marker": {
          "color": "#636efa"
         },
         "name": "finish_lines",
         "notched": false,
         "offsetgroup": "finish_lines",
         "orientation": "v",
         "showlegend": true,
         "type": "box",
         "x": [
          "e_match",
          "e_match",
          "e_match",
          "e_match",
          "e_match",
          "e_match",
          "e_match",
          "e_match",
          "e_match",
          "e_match",
          "e_match",
          "e_match",
          "e_match",
          "e_match",
          "e_match",
          "e_match",
          "e_match",
          "e_match",
          "e_match",
          "e_match",
          "bleu",
          "bleu",
          "bleu",
          "bleu",
          "bleu",
          "bleu",
          "bleu",
          "bleu",
          "bleu",
          "bleu",
          "bleu",
          "bleu",
          "bleu",
          "bleu",
          "bleu",
          "bleu",
          "bleu",
          "bleu",
          "bleu",
          "bleu",
          "chrf",
          "chrf",
          "chrf",
          "chrf",
          "chrf",
          "chrf",
          "chrf",
          "chrf",
          "chrf",
          "chrf",
          "chrf",
          "chrf",
          "chrf",
          "chrf",
          "chrf",
          "chrf",
          "chrf",
          "chrf",
          "chrf",
          "chrf",
          "ter",
          "ter",
          "ter",
          "ter",
          "ter",
          "ter",
          "ter",
          "ter",
          "ter",
          "ter",
          "ter",
          "ter",
          "ter",
          "ter",
          "ter",
          "ter",
          "ter",
          "ter",
          "ter",
          "ter",
          "codebleu",
          "codebleu",
          "codebleu",
          "codebleu",
          "codebleu",
          "codebleu",
          "codebleu",
          "codebleu",
          "codebleu",
          "codebleu",
          "codebleu",
          "codebleu",
          "codebleu",
          "codebleu",
          "codebleu",
          "codebleu",
          "codebleu",
          "codebleu",
          "codebleu",
          "codebleu"
         ],
         "x0": " ",
         "xaxis": "x",
         "y": [
          -0.15811388300841903,
          -0.15811388300841903,
          -0.15811388300841903,
          -0.15811388300841903,
          -0.15811388300841903,
          -0.15811388300841903,
          -0.15811388300841903,
          6.166441437328341,
          -0.15811388300841903,
          -0.15811388300841903,
          -0.15811388300841903,
          -0.15811388300841903,
          -0.15811388300841903,
          -0.15811388300841903,
          -0.15811388300841903,
          -0.15811388300841903,
          -0.15811388300841903,
          -0.15811388300841903,
          -0.15811388300841903,
          -0.15811388300841903,
          -0.5738531613314749,
          -0.36118449064326735,
          -0.5646304026853821,
          -0.3896555822654571,
          -0.05250404051162605,
          -0.591052797307871,
          1.3018113176371338,
          4.875490092338822,
          1.4661249900934,
          1.0070037233943243,
          -0.591052797307871,
          -0.47975659472984156,
          -0.4546124148166357,
          -0.2468696638142397,
          -0.4821072272148563,
          -0.3539434069685865,
          -0.5041620669163132,
          0.4587611349953824,
          -0.5976224987405253,
          0.17427633441178492,
          -1.0346297441368126,
          -0.7471270042171548,
          -0.9916343919289139,
          -0.35845007059717426,
          -0.08312728319486151,
          -1.1159178319048708,
          0.7331831404791265,
          3.8603911047324484,
          1.2512535592132643,
          1.068033272757893,
          -1.252984711421212,
          0.38141324239480134,
          -0.7689002684588222,
          0.24823307160191743,
          -0.4448423598750969,
          -0.4337883681698079,
          -0.9430145845127822,
          0.7700026299495901,
          -0.6212592334735036,
          1.3933006013304343,
          1.6832862199813012,
          1.6832862199813012,
          -0.2626261078243629,
          0.24186968086599414,
          -0.4307913707211487,
          4.710260952123445,
          -0.04641362695706697,
          -0.911263550426251,
          -0.586944829125307,
          -0.19055528086859752,
          -0.04641362695706697,
          0.6022238156448212,
          -0.47883858869165896,
          0.38601133477752514,
          1.034648777379413,
          0.38601133477752514,
          1.467073739114005,
          -0.5268858066621691,
          -0.4067677617358936,
          0.38601133477752514,
          0.7389600935137444,
          0.354947610652834,
          0.09014176450313682,
          -0.19697625680661268,
          -0.4334575139744268,
          -0.005749418297583464,
          -0.0480197734643133,
          4.1097940628396294,
          0.8578695621663153,
          1.907207416984678,
          0.2815537787096365,
          -0.19697625680661268,
          -1.309558589381892,
          0.2815537787096365,
          -0.19697625680661268,
          1.0889185228063032,
          -0.19697625680661268,
          -0.9073791786364838,
          0.6193017411981852,
          0.1619212698305743
         ],
         "y0": " ",
         "yaxis": "y"
        },
        {
         "alignmentgroup": "True",
         "hovertemplate": "meta=finish_words<br>metric=%{x}<br>value=%{y}<extra></extra>",
         "legendgroup": "finish_words",
         "marker": {
          "color": "#EF553B"
         },
         "name": "finish_words",
         "notched": false,
         "offsetgroup": "finish_words",
         "orientation": "v",
         "showlegend": true,
         "type": "box",
         "x": [
          "e_match",
          "e_match",
          "e_match",
          "e_match",
          "e_match",
          "e_match",
          "e_match",
          "e_match",
          "e_match",
          "e_match",
          "e_match",
          "e_match",
          "e_match",
          "e_match",
          "e_match",
          "e_match",
          "e_match",
          "e_match",
          "e_match",
          "e_match",
          "bleu",
          "bleu",
          "bleu",
          "bleu",
          "bleu",
          "bleu",
          "bleu",
          "bleu",
          "bleu",
          "bleu",
          "bleu",
          "bleu",
          "bleu",
          "bleu",
          "bleu",
          "bleu",
          "bleu",
          "bleu",
          "bleu",
          "bleu",
          "chrf",
          "chrf",
          "chrf",
          "chrf",
          "chrf",
          "chrf",
          "chrf",
          "chrf",
          "chrf",
          "chrf",
          "chrf",
          "chrf",
          "chrf",
          "chrf",
          "chrf",
          "chrf",
          "chrf",
          "chrf",
          "chrf",
          "chrf",
          "ter",
          "ter",
          "ter",
          "ter",
          "ter",
          "ter",
          "ter",
          "ter",
          "ter",
          "ter",
          "ter",
          "ter",
          "ter",
          "ter",
          "ter",
          "ter",
          "ter",
          "ter",
          "ter",
          "ter",
          "codebleu",
          "codebleu",
          "codebleu",
          "codebleu",
          "codebleu",
          "codebleu",
          "codebleu",
          "codebleu",
          "codebleu",
          "codebleu",
          "codebleu",
          "codebleu",
          "codebleu",
          "codebleu",
          "codebleu",
          "codebleu",
          "codebleu",
          "codebleu",
          "codebleu",
          "codebleu"
         ],
         "x0": " ",
         "xaxis": "x",
         "y": [
          -0.15811388300841903,
          -0.15811388300841903,
          -0.15811388300841903,
          -0.15811388300841903,
          -0.15811388300841903,
          -0.15811388300841903,
          -0.15811388300841903,
          -0.15811388300841903,
          -0.15811388300841903,
          -0.15811388300841903,
          -0.15811388300841903,
          -0.15811388300841903,
          -0.15811388300841903,
          -0.15811388300841903,
          -0.15811388300841903,
          -0.15811388300841903,
          -0.15811388300841903,
          -0.15811388300841903,
          -0.15811388300841903,
          -0.15811388300841903,
          -0.1841831646299874,
          -0.4708191464861297,
          -0.6746483905541285,
          -0.45600227982382635,
          -0.26511529415696344,
          -0.6384230329425601,
          -0.4236831782729342,
          -0.30944593497200573,
          -0.40091747799843014,
          -0.4671429962270218,
          2.088772059125842,
          0.029159351947144252,
          -0.2594189179006797,
          -0.47956946845014475,
          0.2577346891953437,
          -0.18074059787248076,
          -0.15567058082287033,
          0.33311102065921183,
          -0.26957135875631105,
          -0.11388574867796608,
          -0.2349945626863299,
          0.18776983676934855,
          -1.1238218659320733,
          -0.3649394625118634,
          0.6260636484193207,
          -0.9261465734957891,
          -0.5601750690055212,
          -0.18294207121068728,
          -0.46840603766618416,
          -0.6883675936286568,
          2.294853844034117,
          0.45570888531021314,
          0.12070163282974744,
          -0.36376914639389035,
          0.7501745138146627,
          -0.45947911268009434,
          -0.11432396038737358,
          -0.1862464448345298,
          0.2731592292790799,
          0.05504553940803891,
          -0.5058651488000709,
          -0.6060224009665389,
          -0.47883858869165896,
          -0.5200219183806677,
          0.49411757521117305,
          -0.47883858869165896,
          -0.5028621976769141,
          -0.5632141909813354,
          -0.5042753511466349,
          -0.19055528086859752,
          -0.4067677617358936,
          -0.5683058221539883,
          -0.5193784288542769,
          -0.2036590675878276,
          -0.47883858869165896,
          -0.4961355871610426,
          -0.47883858869165896,
          -0.5653235810385773,
          -0.6118924230715335,
          -0.5076669194739651,
          -1.3644199457629147,
          -0.09307430773464453,
          -0.19697625680661268,
          -1.1332920724906308,
          0.23037652369649342,
          -0.842991804753549,
          -0.013966341077406463,
          0.29272640241576586,
          -0.04310650407860073,
          -0.5769854026577517,
          1.6632710325117417,
          -0.900276045945147,
          -0.6081567514565986,
          -0.14114621452054799,
          -0.9037283092613807,
          -0.9267126609383398,
          0.04228876095151213,
          0.5520848943652683,
          -0.9206847240952771,
          -1.115330373294889
         ],
         "y0": " ",
         "yaxis": "y"
        }
       ],
       "layout": {
        "boxmode": "group",
        "legend": {
         "title": {
          "text": "meta"
         },
         "tracegroupgap": 0
        },
        "margin": {
         "t": 60
        },
        "template": {
         "data": {
          "bar": [
           {
            "error_x": {
             "color": "#2a3f5f"
            },
            "error_y": {
             "color": "#2a3f5f"
            },
            "marker": {
             "line": {
              "color": "#E5ECF6",
              "width": 0.5
             },
             "pattern": {
              "fillmode": "overlay",
              "size": 10,
              "solidity": 0.2
             }
            },
            "type": "bar"
           }
          ],
          "barpolar": [
           {
            "marker": {
             "line": {
              "color": "#E5ECF6",
              "width": 0.5
             },
             "pattern": {
              "fillmode": "overlay",
              "size": 10,
              "solidity": 0.2
             }
            },
            "type": "barpolar"
           }
          ],
          "carpet": [
           {
            "aaxis": {
             "endlinecolor": "#2a3f5f",
             "gridcolor": "white",
             "linecolor": "white",
             "minorgridcolor": "white",
             "startlinecolor": "#2a3f5f"
            },
            "baxis": {
             "endlinecolor": "#2a3f5f",
             "gridcolor": "white",
             "linecolor": "white",
             "minorgridcolor": "white",
             "startlinecolor": "#2a3f5f"
            },
            "type": "carpet"
           }
          ],
          "choropleth": [
           {
            "colorbar": {
             "outlinewidth": 0,
             "ticks": ""
            },
            "type": "choropleth"
           }
          ],
          "contour": [
           {
            "colorbar": {
             "outlinewidth": 0,
             "ticks": ""
            },
            "colorscale": [
             [
              0,
              "#0d0887"
             ],
             [
              0.1111111111111111,
              "#46039f"
             ],
             [
              0.2222222222222222,
              "#7201a8"
             ],
             [
              0.3333333333333333,
              "#9c179e"
             ],
             [
              0.4444444444444444,
              "#bd3786"
             ],
             [
              0.5555555555555556,
              "#d8576b"
             ],
             [
              0.6666666666666666,
              "#ed7953"
             ],
             [
              0.7777777777777778,
              "#fb9f3a"
             ],
             [
              0.8888888888888888,
              "#fdca26"
             ],
             [
              1,
              "#f0f921"
             ]
            ],
            "type": "contour"
           }
          ],
          "contourcarpet": [
           {
            "colorbar": {
             "outlinewidth": 0,
             "ticks": ""
            },
            "type": "contourcarpet"
           }
          ],
          "heatmap": [
           {
            "colorbar": {
             "outlinewidth": 0,
             "ticks": ""
            },
            "colorscale": [
             [
              0,
              "#0d0887"
             ],
             [
              0.1111111111111111,
              "#46039f"
             ],
             [
              0.2222222222222222,
              "#7201a8"
             ],
             [
              0.3333333333333333,
              "#9c179e"
             ],
             [
              0.4444444444444444,
              "#bd3786"
             ],
             [
              0.5555555555555556,
              "#d8576b"
             ],
             [
              0.6666666666666666,
              "#ed7953"
             ],
             [
              0.7777777777777778,
              "#fb9f3a"
             ],
             [
              0.8888888888888888,
              "#fdca26"
             ],
             [
              1,
              "#f0f921"
             ]
            ],
            "type": "heatmap"
           }
          ],
          "heatmapgl": [
           {
            "colorbar": {
             "outlinewidth": 0,
             "ticks": ""
            },
            "colorscale": [
             [
              0,
              "#0d0887"
             ],
             [
              0.1111111111111111,
              "#46039f"
             ],
             [
              0.2222222222222222,
              "#7201a8"
             ],
             [
              0.3333333333333333,
              "#9c179e"
             ],
             [
              0.4444444444444444,
              "#bd3786"
             ],
             [
              0.5555555555555556,
              "#d8576b"
             ],
             [
              0.6666666666666666,
              "#ed7953"
             ],
             [
              0.7777777777777778,
              "#fb9f3a"
             ],
             [
              0.8888888888888888,
              "#fdca26"
             ],
             [
              1,
              "#f0f921"
             ]
            ],
            "type": "heatmapgl"
           }
          ],
          "histogram": [
           {
            "marker": {
             "pattern": {
              "fillmode": "overlay",
              "size": 10,
              "solidity": 0.2
             }
            },
            "type": "histogram"
           }
          ],
          "histogram2d": [
           {
            "colorbar": {
             "outlinewidth": 0,
             "ticks": ""
            },
            "colorscale": [
             [
              0,
              "#0d0887"
             ],
             [
              0.1111111111111111,
              "#46039f"
             ],
             [
              0.2222222222222222,
              "#7201a8"
             ],
             [
              0.3333333333333333,
              "#9c179e"
             ],
             [
              0.4444444444444444,
              "#bd3786"
             ],
             [
              0.5555555555555556,
              "#d8576b"
             ],
             [
              0.6666666666666666,
              "#ed7953"
             ],
             [
              0.7777777777777778,
              "#fb9f3a"
             ],
             [
              0.8888888888888888,
              "#fdca26"
             ],
             [
              1,
              "#f0f921"
             ]
            ],
            "type": "histogram2d"
           }
          ],
          "histogram2dcontour": [
           {
            "colorbar": {
             "outlinewidth": 0,
             "ticks": ""
            },
            "colorscale": [
             [
              0,
              "#0d0887"
             ],
             [
              0.1111111111111111,
              "#46039f"
             ],
             [
              0.2222222222222222,
              "#7201a8"
             ],
             [
              0.3333333333333333,
              "#9c179e"
             ],
             [
              0.4444444444444444,
              "#bd3786"
             ],
             [
              0.5555555555555556,
              "#d8576b"
             ],
             [
              0.6666666666666666,
              "#ed7953"
             ],
             [
              0.7777777777777778,
              "#fb9f3a"
             ],
             [
              0.8888888888888888,
              "#fdca26"
             ],
             [
              1,
              "#f0f921"
             ]
            ],
            "type": "histogram2dcontour"
           }
          ],
          "mesh3d": [
           {
            "colorbar": {
             "outlinewidth": 0,
             "ticks": ""
            },
            "type": "mesh3d"
           }
          ],
          "parcoords": [
           {
            "line": {
             "colorbar": {
              "outlinewidth": 0,
              "ticks": ""
             }
            },
            "type": "parcoords"
           }
          ],
          "pie": [
           {
            "automargin": true,
            "type": "pie"
           }
          ],
          "scatter": [
           {
            "fillpattern": {
             "fillmode": "overlay",
             "size": 10,
             "solidity": 0.2
            },
            "type": "scatter"
           }
          ],
          "scatter3d": [
           {
            "line": {
             "colorbar": {
              "outlinewidth": 0,
              "ticks": ""
             }
            },
            "marker": {
             "colorbar": {
              "outlinewidth": 0,
              "ticks": ""
             }
            },
            "type": "scatter3d"
           }
          ],
          "scattercarpet": [
           {
            "marker": {
             "colorbar": {
              "outlinewidth": 0,
              "ticks": ""
             }
            },
            "type": "scattercarpet"
           }
          ],
          "scattergeo": [
           {
            "marker": {
             "colorbar": {
              "outlinewidth": 0,
              "ticks": ""
             }
            },
            "type": "scattergeo"
           }
          ],
          "scattergl": [
           {
            "marker": {
             "colorbar": {
              "outlinewidth": 0,
              "ticks": ""
             }
            },
            "type": "scattergl"
           }
          ],
          "scattermapbox": [
           {
            "marker": {
             "colorbar": {
              "outlinewidth": 0,
              "ticks": ""
             }
            },
            "type": "scattermapbox"
           }
          ],
          "scatterpolar": [
           {
            "marker": {
             "colorbar": {
              "outlinewidth": 0,
              "ticks": ""
             }
            },
            "type": "scatterpolar"
           }
          ],
          "scatterpolargl": [
           {
            "marker": {
             "colorbar": {
              "outlinewidth": 0,
              "ticks": ""
             }
            },
            "type": "scatterpolargl"
           }
          ],
          "scatterternary": [
           {
            "marker": {
             "colorbar": {
              "outlinewidth": 0,
              "ticks": ""
             }
            },
            "type": "scatterternary"
           }
          ],
          "surface": [
           {
            "colorbar": {
             "outlinewidth": 0,
             "ticks": ""
            },
            "colorscale": [
             [
              0,
              "#0d0887"
             ],
             [
              0.1111111111111111,
              "#46039f"
             ],
             [
              0.2222222222222222,
              "#7201a8"
             ],
             [
              0.3333333333333333,
              "#9c179e"
             ],
             [
              0.4444444444444444,
              "#bd3786"
             ],
             [
              0.5555555555555556,
              "#d8576b"
             ],
             [
              0.6666666666666666,
              "#ed7953"
             ],
             [
              0.7777777777777778,
              "#fb9f3a"
             ],
             [
              0.8888888888888888,
              "#fdca26"
             ],
             [
              1,
              "#f0f921"
             ]
            ],
            "type": "surface"
           }
          ],
          "table": [
           {
            "cells": {
             "fill": {
              "color": "#EBF0F8"
             },
             "line": {
              "color": "white"
             }
            },
            "header": {
             "fill": {
              "color": "#C8D4E3"
             },
             "line": {
              "color": "white"
             }
            },
            "type": "table"
           }
          ]
         },
         "layout": {
          "annotationdefaults": {
           "arrowcolor": "#2a3f5f",
           "arrowhead": 0,
           "arrowwidth": 1
          },
          "autotypenumbers": "strict",
          "coloraxis": {
           "colorbar": {
            "outlinewidth": 0,
            "ticks": ""
           }
          },
          "colorscale": {
           "diverging": [
            [
             0,
             "#8e0152"
            ],
            [
             0.1,
             "#c51b7d"
            ],
            [
             0.2,
             "#de77ae"
            ],
            [
             0.3,
             "#f1b6da"
            ],
            [
             0.4,
             "#fde0ef"
            ],
            [
             0.5,
             "#f7f7f7"
            ],
            [
             0.6,
             "#e6f5d0"
            ],
            [
             0.7,
             "#b8e186"
            ],
            [
             0.8,
             "#7fbc41"
            ],
            [
             0.9,
             "#4d9221"
            ],
            [
             1,
             "#276419"
            ]
           ],
           "sequential": [
            [
             0,
             "#0d0887"
            ],
            [
             0.1111111111111111,
             "#46039f"
            ],
            [
             0.2222222222222222,
             "#7201a8"
            ],
            [
             0.3333333333333333,
             "#9c179e"
            ],
            [
             0.4444444444444444,
             "#bd3786"
            ],
            [
             0.5555555555555556,
             "#d8576b"
            ],
            [
             0.6666666666666666,
             "#ed7953"
            ],
            [
             0.7777777777777778,
             "#fb9f3a"
            ],
            [
             0.8888888888888888,
             "#fdca26"
            ],
            [
             1,
             "#f0f921"
            ]
           ],
           "sequentialminus": [
            [
             0,
             "#0d0887"
            ],
            [
             0.1111111111111111,
             "#46039f"
            ],
            [
             0.2222222222222222,
             "#7201a8"
            ],
            [
             0.3333333333333333,
             "#9c179e"
            ],
            [
             0.4444444444444444,
             "#bd3786"
            ],
            [
             0.5555555555555556,
             "#d8576b"
            ],
            [
             0.6666666666666666,
             "#ed7953"
            ],
            [
             0.7777777777777778,
             "#fb9f3a"
            ],
            [
             0.8888888888888888,
             "#fdca26"
            ],
            [
             1,
             "#f0f921"
            ]
           ]
          },
          "colorway": [
           "#636efa",
           "#EF553B",
           "#00cc96",
           "#ab63fa",
           "#FFA15A",
           "#19d3f3",
           "#FF6692",
           "#B6E880",
           "#FF97FF",
           "#FECB52"
          ],
          "font": {
           "color": "#2a3f5f"
          },
          "geo": {
           "bgcolor": "white",
           "lakecolor": "white",
           "landcolor": "#E5ECF6",
           "showlakes": true,
           "showland": true,
           "subunitcolor": "white"
          },
          "hoverlabel": {
           "align": "left"
          },
          "hovermode": "closest",
          "mapbox": {
           "style": "light"
          },
          "paper_bgcolor": "white",
          "plot_bgcolor": "#E5ECF6",
          "polar": {
           "angularaxis": {
            "gridcolor": "white",
            "linecolor": "white",
            "ticks": ""
           },
           "bgcolor": "#E5ECF6",
           "radialaxis": {
            "gridcolor": "white",
            "linecolor": "white",
            "ticks": ""
           }
          },
          "scene": {
           "xaxis": {
            "backgroundcolor": "#E5ECF6",
            "gridcolor": "white",
            "gridwidth": 2,
            "linecolor": "white",
            "showbackground": true,
            "ticks": "",
            "zerolinecolor": "white"
           },
           "yaxis": {
            "backgroundcolor": "#E5ECF6",
            "gridcolor": "white",
            "gridwidth": 2,
            "linecolor": "white",
            "showbackground": true,
            "ticks": "",
            "zerolinecolor": "white"
           },
           "zaxis": {
            "backgroundcolor": "#E5ECF6",
            "gridcolor": "white",
            "gridwidth": 2,
            "linecolor": "white",
            "showbackground": true,
            "ticks": "",
            "zerolinecolor": "white"
           }
          },
          "shapedefaults": {
           "line": {
            "color": "#2a3f5f"
           }
          },
          "ternary": {
           "aaxis": {
            "gridcolor": "white",
            "linecolor": "white",
            "ticks": ""
           },
           "baxis": {
            "gridcolor": "white",
            "linecolor": "white",
            "ticks": ""
           },
           "bgcolor": "#E5ECF6",
           "caxis": {
            "gridcolor": "white",
            "linecolor": "white",
            "ticks": ""
           }
          },
          "title": {
           "x": 0.05
          },
          "xaxis": {
           "automargin": true,
           "gridcolor": "white",
           "linecolor": "white",
           "ticks": "",
           "title": {
            "standoff": 15
           },
           "zerolinecolor": "white",
           "zerolinewidth": 2
          },
          "yaxis": {
           "automargin": true,
           "gridcolor": "white",
           "linecolor": "white",
           "ticks": "",
           "title": {
            "standoff": 15
           },
           "zerolinecolor": "white",
           "zerolinewidth": 2
          }
         }
        },
        "xaxis": {
         "anchor": "y",
         "domain": [
          0,
          1
         ],
         "title": {
          "text": "metric"
         }
        },
        "yaxis": {
         "anchor": "x",
         "domain": [
          0,
          1
         ],
         "title": {
          "text": "value"
         }
        }
       }
      }
     },
     "metadata": {},
     "output_type": "display_data"
    }
   ],
   "source": [
    "df_show = df.copy()\n",
    "df_show[metrics] = df_show[metrics] / df_show[metrics].std()\n",
    "df_show[metrics] -= df_show[metrics].mean()\n",
    "df_show = df_show[['meta'] + metrics].melt('meta', var_name='metric')\n",
    "\n",
    "px.box(\n",
    "    df_show,\n",
    "    x='metric',\n",
    "    y='value',\n",
    "    color='meta'\n",
    ")"
   ]
  },
  {
   "cell_type": "markdown",
   "metadata": {},
   "source": [
    "e_match is not good metrics  \n",
    "bleu, if not take into account one full match, finish_words performed better  \n",
    "chrf is same, finish_words perform better \n",
    "ref is same, finish_words perform better \n",
    "codebleu is opposite, finish_lines performed better "
   ]
  },
  {
   "cell_type": "code",
   "execution_count": 191,
   "metadata": {},
   "outputs": [
    {
     "data": {
      "text/html": [
       "<div>\n",
       "<style scoped>\n",
       "    .dataframe tbody tr th:only-of-type {\n",
       "        vertical-align: middle;\n",
       "    }\n",
       "\n",
       "    .dataframe tbody tr th {\n",
       "        vertical-align: top;\n",
       "    }\n",
       "\n",
       "    .dataframe thead th {\n",
       "        text-align: right;\n",
       "    }\n",
       "</style>\n",
       "<table border=\"1\" class=\"dataframe\">\n",
       "  <thead>\n",
       "    <tr style=\"text-align: right;\">\n",
       "      <th></th>\n",
       "      <th>meta</th>\n",
       "      <th>metric</th>\n",
       "      <th>value</th>\n",
       "    </tr>\n",
       "  </thead>\n",
       "  <tbody>\n",
       "    <tr>\n",
       "      <th>0</th>\n",
       "      <td>finish_lines</td>\n",
       "      <td>e_match</td>\n",
       "      <td>-0.158114</td>\n",
       "    </tr>\n",
       "    <tr>\n",
       "      <th>1</th>\n",
       "      <td>finish_lines</td>\n",
       "      <td>e_match</td>\n",
       "      <td>-0.158114</td>\n",
       "    </tr>\n",
       "    <tr>\n",
       "      <th>2</th>\n",
       "      <td>finish_lines</td>\n",
       "      <td>e_match</td>\n",
       "      <td>-0.158114</td>\n",
       "    </tr>\n",
       "    <tr>\n",
       "      <th>3</th>\n",
       "      <td>finish_lines</td>\n",
       "      <td>e_match</td>\n",
       "      <td>-0.158114</td>\n",
       "    </tr>\n",
       "    <tr>\n",
       "      <th>4</th>\n",
       "      <td>finish_lines</td>\n",
       "      <td>e_match</td>\n",
       "      <td>-0.158114</td>\n",
       "    </tr>\n",
       "    <tr>\n",
       "      <th>...</th>\n",
       "      <td>...</td>\n",
       "      <td>...</td>\n",
       "      <td>...</td>\n",
       "    </tr>\n",
       "    <tr>\n",
       "      <th>195</th>\n",
       "      <td>finish_words</td>\n",
       "      <td>codebleu</td>\n",
       "      <td>-0.926713</td>\n",
       "    </tr>\n",
       "    <tr>\n",
       "      <th>196</th>\n",
       "      <td>finish_words</td>\n",
       "      <td>codebleu</td>\n",
       "      <td>0.042289</td>\n",
       "    </tr>\n",
       "    <tr>\n",
       "      <th>197</th>\n",
       "      <td>finish_words</td>\n",
       "      <td>codebleu</td>\n",
       "      <td>0.552085</td>\n",
       "    </tr>\n",
       "    <tr>\n",
       "      <th>198</th>\n",
       "      <td>finish_words</td>\n",
       "      <td>codebleu</td>\n",
       "      <td>-0.920685</td>\n",
       "    </tr>\n",
       "    <tr>\n",
       "      <th>199</th>\n",
       "      <td>finish_words</td>\n",
       "      <td>codebleu</td>\n",
       "      <td>-1.115330</td>\n",
       "    </tr>\n",
       "  </tbody>\n",
       "</table>\n",
       "<p>200 rows × 3 columns</p>\n",
       "</div>"
      ],
      "text/plain": [
       "             meta    metric     value\n",
       "0    finish_lines   e_match -0.158114\n",
       "1    finish_lines   e_match -0.158114\n",
       "2    finish_lines   e_match -0.158114\n",
       "3    finish_lines   e_match -0.158114\n",
       "4    finish_lines   e_match -0.158114\n",
       "..            ...       ...       ...\n",
       "195  finish_words  codebleu -0.926713\n",
       "196  finish_words  codebleu  0.042289\n",
       "197  finish_words  codebleu  0.552085\n",
       "198  finish_words  codebleu -0.920685\n",
       "199  finish_words  codebleu -1.115330\n",
       "\n",
       "[200 rows x 3 columns]"
      ]
     },
     "execution_count": 191,
     "metadata": {},
     "output_type": "execute_result"
    }
   ],
   "source": [
    "df_show"
   ]
  },
  {
   "cell_type": "code",
   "execution_count": null,
   "metadata": {},
   "outputs": [],
   "source": [
    "metrics.append('subjective_score')\n",
    "metrics = [m for m in metrics if m != 'e_match']"
   ]
  },
  {
   "cell_type": "code",
   "execution_count": 199,
   "metadata": {},
   "outputs": [
    {
     "data": {
      "text/html": [
       "<div>\n",
       "<style scoped>\n",
       "    .dataframe tbody tr th:only-of-type {\n",
       "        vertical-align: middle;\n",
       "    }\n",
       "\n",
       "    .dataframe tbody tr th {\n",
       "        vertical-align: top;\n",
       "    }\n",
       "\n",
       "    .dataframe thead th {\n",
       "        text-align: right;\n",
       "    }\n",
       "</style>\n",
       "<table border=\"1\" class=\"dataframe\">\n",
       "  <thead>\n",
       "    <tr style=\"text-align: right;\">\n",
       "      <th></th>\n",
       "      <th>bleu</th>\n",
       "      <th>chrf</th>\n",
       "      <th>ter</th>\n",
       "      <th>codebleu</th>\n",
       "      <th>subjective_score</th>\n",
       "    </tr>\n",
       "  </thead>\n",
       "  <tbody>\n",
       "    <tr>\n",
       "      <th>bleu</th>\n",
       "      <td>1.00</td>\n",
       "      <td>0.82</td>\n",
       "      <td>-0.45</td>\n",
       "      <td>0.40</td>\n",
       "      <td>0.07</td>\n",
       "    </tr>\n",
       "    <tr>\n",
       "      <th>chrf</th>\n",
       "      <td>0.82</td>\n",
       "      <td>1.00</td>\n",
       "      <td>-0.52</td>\n",
       "      <td>0.16</td>\n",
       "      <td>0.35</td>\n",
       "    </tr>\n",
       "    <tr>\n",
       "      <th>ter</th>\n",
       "      <td>-0.45</td>\n",
       "      <td>-0.52</td>\n",
       "      <td>1.00</td>\n",
       "      <td>0.11</td>\n",
       "      <td>-0.27</td>\n",
       "    </tr>\n",
       "    <tr>\n",
       "      <th>codebleu</th>\n",
       "      <td>0.40</td>\n",
       "      <td>0.16</td>\n",
       "      <td>0.11</td>\n",
       "      <td>1.00</td>\n",
       "      <td>0.41</td>\n",
       "    </tr>\n",
       "    <tr>\n",
       "      <th>subjective_score</th>\n",
       "      <td>0.07</td>\n",
       "      <td>0.35</td>\n",
       "      <td>-0.27</td>\n",
       "      <td>0.41</td>\n",
       "      <td>1.00</td>\n",
       "    </tr>\n",
       "  </tbody>\n",
       "</table>\n",
       "</div>"
      ],
      "text/plain": [
       "                  bleu  chrf   ter  codebleu  subjective_score\n",
       "bleu              1.00  0.82 -0.45      0.40              0.07\n",
       "chrf              0.82  1.00 -0.52      0.16              0.35\n",
       "ter              -0.45 -0.52  1.00      0.11             -0.27\n",
       "codebleu          0.40  0.16  0.11      1.00              0.41\n",
       "subjective_score  0.07  0.35 -0.27      0.41              1.00"
      ]
     },
     "execution_count": 199,
     "metadata": {},
     "output_type": "execute_result"
    }
   ],
   "source": [
    "df_small[metrics].corr().round(2)"
   ]
  },
  {
   "cell_type": "markdown",
   "metadata": {},
   "source": [
    "subjective_score has biggest correlation with codebleu  \n",
    "which makes sence as it is most advanced metrics out of these "
   ]
  },
  {
   "cell_type": "code",
   "execution_count": 211,
   "metadata": {},
   "outputs": [],
   "source": [
    "df_show = df_small.copy()\n",
    "df_show.sort_values(by='subjective_score', inplace=True, ignore_index=True)\n",
    "df_show.reset_index(inplace=True)"
   ]
  },
  {
   "cell_type": "code",
   "execution_count": 213,
   "metadata": {},
   "outputs": [],
   "source": [
    "df_show[metrics] = df_show[metrics] / df_show[metrics].std()\n",
    "df_show[metrics] -= df_show[metrics].mean()\n",
    "df_show = df_show[['meta', 'index'] + metrics].melt(['meta', 'index'], var_name='metric')"
   ]
  },
  {
   "cell_type": "code",
   "execution_count": 214,
   "metadata": {},
   "outputs": [
    {
     "data": {
      "application/vnd.plotly.v1+json": {
       "config": {
        "plotlyServerURL": "https://plot.ly"
       },
       "data": [
        {
         "hovertemplate": "metric=bleu<br>index=%{x}<br>value=%{y}<extra></extra>",
         "legendgroup": "bleu",
         "marker": {
          "color": "#636efa",
          "symbol": "circle"
         },
         "mode": "markers",
         "name": "bleu",
         "orientation": "h",
         "showlegend": true,
         "type": "scatter",
         "x": [
          0,
          1,
          2,
          3,
          4,
          5,
          6,
          7,
          8,
          9
         ],
         "xaxis": "x",
         "y": [
          -0.9277098222445398,
          -0.0944788159426827,
          0.38551584690889174,
          -1.0010000278360482,
          -0.759151588927372,
          2.255111224702384,
          0.6965396225902174,
          -0.6335365622704765,
          0.5021364791625154,
          -0.42342635614288904
         ],
         "yaxis": "y"
        },
        {
         "hovertemplate": "metric=chrf<br>index=%{x}<br>value=%{y}<extra></extra>",
         "legendgroup": "chrf",
         "marker": {
          "color": "#EF553B",
          "symbol": "circle"
         },
         "mode": "markers",
         "name": "chrf",
         "orientation": "h",
         "showlegend": true,
         "type": "scatter",
         "x": [
          0,
          1,
          2,
          3,
          4,
          5,
          6,
          7,
          8,
          9
         ],
         "xaxis": "x",
         "y": [
          -1.4274219691362386,
          -0.1264779857955216,
          0.9231820449634733,
          -1.1883785569490772,
          -0.5821086587122497,
          1.5543611064911336,
          0.9481583273461249,
          -0.6117904028819492,
          -0.2563709762666546,
          0.7668470709409572
         ],
         "yaxis": "y"
        },
        {
         "hovertemplate": "metric=ter<br>index=%{x}<br>value=%{y}<extra></extra>",
         "legendgroup": "ter",
         "marker": {
          "color": "#00cc96",
          "symbol": "circle"
         },
         "mode": "markers",
         "name": "ter",
         "orientation": "h",
         "showlegend": true,
         "type": "scatter",
         "x": [
          0,
          1,
          2,
          3,
          4,
          5,
          6,
          7,
          8,
          9
         ],
         "xaxis": "x",
         "y": [
          2.686079798743658,
          -0.4216342813822245,
          -0.45067833820583086,
          -0.45067833820583086,
          0.46420945173776995,
          -0.5160274660589452,
          -0.47972239502943725,
          -0.4660546035830343,
          -0.5029576404883224,
          0.1374638124721983
         ],
         "yaxis": "y"
        },
        {
         "hovertemplate": "metric=codebleu<br>index=%{x}<br>value=%{y}<extra></extra>",
         "legendgroup": "codebleu",
         "marker": {
          "color": "#ab63fa",
          "symbol": "circle"
         },
         "mode": "markers",
         "name": "codebleu",
         "orientation": "h",
         "showlegend": true,
         "type": "scatter",
         "x": [
          0,
          1,
          2,
          3,
          4,
          5,
          6,
          7,
          8,
          9
         ],
         "xaxis": "x",
         "y": [
          0.26663493845952857,
          -0.4306287218959526,
          -1.1972794806597356,
          -1.0982648539122326,
          -0.04510927850697577,
          1.6745347129957087,
          -1.2032312467583774,
          0.20573420116891095,
          1.176034593623088,
          0.6515751354860351
         ],
         "yaxis": "y"
        },
        {
         "hovertemplate": "metric=subjective_score<br>index=%{x}<br>value=%{y}<extra></extra>",
         "legendgroup": "subjective_score",
         "marker": {
          "color": "#FFA15A",
          "symbol": "circle"
         },
         "mode": "markers",
         "name": "subjective_score",
         "orientation": "h",
         "showlegend": true,
         "type": "scatter",
         "x": [
          0,
          1,
          2,
          3,
          4,
          5,
          6,
          7,
          8,
          9
         ],
         "xaxis": "x",
         "y": [
          -1.0987005311470717,
          -0.6761234037828133,
          -0.6761234037828133,
          -0.6761234037828133,
          -0.253546276418555,
          -0.253546276418555,
          0.16903085094570325,
          0.16903085094570325,
          1.01418510567422,
          2.2819164877669946
         ],
         "yaxis": "y"
        }
       ],
       "layout": {
        "legend": {
         "title": {
          "text": "metric"
         },
         "tracegroupgap": 0
        },
        "margin": {
         "t": 60
        },
        "template": {
         "data": {
          "bar": [
           {
            "error_x": {
             "color": "#2a3f5f"
            },
            "error_y": {
             "color": "#2a3f5f"
            },
            "marker": {
             "line": {
              "color": "#E5ECF6",
              "width": 0.5
             },
             "pattern": {
              "fillmode": "overlay",
              "size": 10,
              "solidity": 0.2
             }
            },
            "type": "bar"
           }
          ],
          "barpolar": [
           {
            "marker": {
             "line": {
              "color": "#E5ECF6",
              "width": 0.5
             },
             "pattern": {
              "fillmode": "overlay",
              "size": 10,
              "solidity": 0.2
             }
            },
            "type": "barpolar"
           }
          ],
          "carpet": [
           {
            "aaxis": {
             "endlinecolor": "#2a3f5f",
             "gridcolor": "white",
             "linecolor": "white",
             "minorgridcolor": "white",
             "startlinecolor": "#2a3f5f"
            },
            "baxis": {
             "endlinecolor": "#2a3f5f",
             "gridcolor": "white",
             "linecolor": "white",
             "minorgridcolor": "white",
             "startlinecolor": "#2a3f5f"
            },
            "type": "carpet"
           }
          ],
          "choropleth": [
           {
            "colorbar": {
             "outlinewidth": 0,
             "ticks": ""
            },
            "type": "choropleth"
           }
          ],
          "contour": [
           {
            "colorbar": {
             "outlinewidth": 0,
             "ticks": ""
            },
            "colorscale": [
             [
              0,
              "#0d0887"
             ],
             [
              0.1111111111111111,
              "#46039f"
             ],
             [
              0.2222222222222222,
              "#7201a8"
             ],
             [
              0.3333333333333333,
              "#9c179e"
             ],
             [
              0.4444444444444444,
              "#bd3786"
             ],
             [
              0.5555555555555556,
              "#d8576b"
             ],
             [
              0.6666666666666666,
              "#ed7953"
             ],
             [
              0.7777777777777778,
              "#fb9f3a"
             ],
             [
              0.8888888888888888,
              "#fdca26"
             ],
             [
              1,
              "#f0f921"
             ]
            ],
            "type": "contour"
           }
          ],
          "contourcarpet": [
           {
            "colorbar": {
             "outlinewidth": 0,
             "ticks": ""
            },
            "type": "contourcarpet"
           }
          ],
          "heatmap": [
           {
            "colorbar": {
             "outlinewidth": 0,
             "ticks": ""
            },
            "colorscale": [
             [
              0,
              "#0d0887"
             ],
             [
              0.1111111111111111,
              "#46039f"
             ],
             [
              0.2222222222222222,
              "#7201a8"
             ],
             [
              0.3333333333333333,
              "#9c179e"
             ],
             [
              0.4444444444444444,
              "#bd3786"
             ],
             [
              0.5555555555555556,
              "#d8576b"
             ],
             [
              0.6666666666666666,
              "#ed7953"
             ],
             [
              0.7777777777777778,
              "#fb9f3a"
             ],
             [
              0.8888888888888888,
              "#fdca26"
             ],
             [
              1,
              "#f0f921"
             ]
            ],
            "type": "heatmap"
           }
          ],
          "heatmapgl": [
           {
            "colorbar": {
             "outlinewidth": 0,
             "ticks": ""
            },
            "colorscale": [
             [
              0,
              "#0d0887"
             ],
             [
              0.1111111111111111,
              "#46039f"
             ],
             [
              0.2222222222222222,
              "#7201a8"
             ],
             [
              0.3333333333333333,
              "#9c179e"
             ],
             [
              0.4444444444444444,
              "#bd3786"
             ],
             [
              0.5555555555555556,
              "#d8576b"
             ],
             [
              0.6666666666666666,
              "#ed7953"
             ],
             [
              0.7777777777777778,
              "#fb9f3a"
             ],
             [
              0.8888888888888888,
              "#fdca26"
             ],
             [
              1,
              "#f0f921"
             ]
            ],
            "type": "heatmapgl"
           }
          ],
          "histogram": [
           {
            "marker": {
             "pattern": {
              "fillmode": "overlay",
              "size": 10,
              "solidity": 0.2
             }
            },
            "type": "histogram"
           }
          ],
          "histogram2d": [
           {
            "colorbar": {
             "outlinewidth": 0,
             "ticks": ""
            },
            "colorscale": [
             [
              0,
              "#0d0887"
             ],
             [
              0.1111111111111111,
              "#46039f"
             ],
             [
              0.2222222222222222,
              "#7201a8"
             ],
             [
              0.3333333333333333,
              "#9c179e"
             ],
             [
              0.4444444444444444,
              "#bd3786"
             ],
             [
              0.5555555555555556,
              "#d8576b"
             ],
             [
              0.6666666666666666,
              "#ed7953"
             ],
             [
              0.7777777777777778,
              "#fb9f3a"
             ],
             [
              0.8888888888888888,
              "#fdca26"
             ],
             [
              1,
              "#f0f921"
             ]
            ],
            "type": "histogram2d"
           }
          ],
          "histogram2dcontour": [
           {
            "colorbar": {
             "outlinewidth": 0,
             "ticks": ""
            },
            "colorscale": [
             [
              0,
              "#0d0887"
             ],
             [
              0.1111111111111111,
              "#46039f"
             ],
             [
              0.2222222222222222,
              "#7201a8"
             ],
             [
              0.3333333333333333,
              "#9c179e"
             ],
             [
              0.4444444444444444,
              "#bd3786"
             ],
             [
              0.5555555555555556,
              "#d8576b"
             ],
             [
              0.6666666666666666,
              "#ed7953"
             ],
             [
              0.7777777777777778,
              "#fb9f3a"
             ],
             [
              0.8888888888888888,
              "#fdca26"
             ],
             [
              1,
              "#f0f921"
             ]
            ],
            "type": "histogram2dcontour"
           }
          ],
          "mesh3d": [
           {
            "colorbar": {
             "outlinewidth": 0,
             "ticks": ""
            },
            "type": "mesh3d"
           }
          ],
          "parcoords": [
           {
            "line": {
             "colorbar": {
              "outlinewidth": 0,
              "ticks": ""
             }
            },
            "type": "parcoords"
           }
          ],
          "pie": [
           {
            "automargin": true,
            "type": "pie"
           }
          ],
          "scatter": [
           {
            "fillpattern": {
             "fillmode": "overlay",
             "size": 10,
             "solidity": 0.2
            },
            "type": "scatter"
           }
          ],
          "scatter3d": [
           {
            "line": {
             "colorbar": {
              "outlinewidth": 0,
              "ticks": ""
             }
            },
            "marker": {
             "colorbar": {
              "outlinewidth": 0,
              "ticks": ""
             }
            },
            "type": "scatter3d"
           }
          ],
          "scattercarpet": [
           {
            "marker": {
             "colorbar": {
              "outlinewidth": 0,
              "ticks": ""
             }
            },
            "type": "scattercarpet"
           }
          ],
          "scattergeo": [
           {
            "marker": {
             "colorbar": {
              "outlinewidth": 0,
              "ticks": ""
             }
            },
            "type": "scattergeo"
           }
          ],
          "scattergl": [
           {
            "marker": {
             "colorbar": {
              "outlinewidth": 0,
              "ticks": ""
             }
            },
            "type": "scattergl"
           }
          ],
          "scattermapbox": [
           {
            "marker": {
             "colorbar": {
              "outlinewidth": 0,
              "ticks": ""
             }
            },
            "type": "scattermapbox"
           }
          ],
          "scatterpolar": [
           {
            "marker": {
             "colorbar": {
              "outlinewidth": 0,
              "ticks": ""
             }
            },
            "type": "scatterpolar"
           }
          ],
          "scatterpolargl": [
           {
            "marker": {
             "colorbar": {
              "outlinewidth": 0,
              "ticks": ""
             }
            },
            "type": "scatterpolargl"
           }
          ],
          "scatterternary": [
           {
            "marker": {
             "colorbar": {
              "outlinewidth": 0,
              "ticks": ""
             }
            },
            "type": "scatterternary"
           }
          ],
          "surface": [
           {
            "colorbar": {
             "outlinewidth": 0,
             "ticks": ""
            },
            "colorscale": [
             [
              0,
              "#0d0887"
             ],
             [
              0.1111111111111111,
              "#46039f"
             ],
             [
              0.2222222222222222,
              "#7201a8"
             ],
             [
              0.3333333333333333,
              "#9c179e"
             ],
             [
              0.4444444444444444,
              "#bd3786"
             ],
             [
              0.5555555555555556,
              "#d8576b"
             ],
             [
              0.6666666666666666,
              "#ed7953"
             ],
             [
              0.7777777777777778,
              "#fb9f3a"
             ],
             [
              0.8888888888888888,
              "#fdca26"
             ],
             [
              1,
              "#f0f921"
             ]
            ],
            "type": "surface"
           }
          ],
          "table": [
           {
            "cells": {
             "fill": {
              "color": "#EBF0F8"
             },
             "line": {
              "color": "white"
             }
            },
            "header": {
             "fill": {
              "color": "#C8D4E3"
             },
             "line": {
              "color": "white"
             }
            },
            "type": "table"
           }
          ]
         },
         "layout": {
          "annotationdefaults": {
           "arrowcolor": "#2a3f5f",
           "arrowhead": 0,
           "arrowwidth": 1
          },
          "autotypenumbers": "strict",
          "coloraxis": {
           "colorbar": {
            "outlinewidth": 0,
            "ticks": ""
           }
          },
          "colorscale": {
           "diverging": [
            [
             0,
             "#8e0152"
            ],
            [
             0.1,
             "#c51b7d"
            ],
            [
             0.2,
             "#de77ae"
            ],
            [
             0.3,
             "#f1b6da"
            ],
            [
             0.4,
             "#fde0ef"
            ],
            [
             0.5,
             "#f7f7f7"
            ],
            [
             0.6,
             "#e6f5d0"
            ],
            [
             0.7,
             "#b8e186"
            ],
            [
             0.8,
             "#7fbc41"
            ],
            [
             0.9,
             "#4d9221"
            ],
            [
             1,
             "#276419"
            ]
           ],
           "sequential": [
            [
             0,
             "#0d0887"
            ],
            [
             0.1111111111111111,
             "#46039f"
            ],
            [
             0.2222222222222222,
             "#7201a8"
            ],
            [
             0.3333333333333333,
             "#9c179e"
            ],
            [
             0.4444444444444444,
             "#bd3786"
            ],
            [
             0.5555555555555556,
             "#d8576b"
            ],
            [
             0.6666666666666666,
             "#ed7953"
            ],
            [
             0.7777777777777778,
             "#fb9f3a"
            ],
            [
             0.8888888888888888,
             "#fdca26"
            ],
            [
             1,
             "#f0f921"
            ]
           ],
           "sequentialminus": [
            [
             0,
             "#0d0887"
            ],
            [
             0.1111111111111111,
             "#46039f"
            ],
            [
             0.2222222222222222,
             "#7201a8"
            ],
            [
             0.3333333333333333,
             "#9c179e"
            ],
            [
             0.4444444444444444,
             "#bd3786"
            ],
            [
             0.5555555555555556,
             "#d8576b"
            ],
            [
             0.6666666666666666,
             "#ed7953"
            ],
            [
             0.7777777777777778,
             "#fb9f3a"
            ],
            [
             0.8888888888888888,
             "#fdca26"
            ],
            [
             1,
             "#f0f921"
            ]
           ]
          },
          "colorway": [
           "#636efa",
           "#EF553B",
           "#00cc96",
           "#ab63fa",
           "#FFA15A",
           "#19d3f3",
           "#FF6692",
           "#B6E880",
           "#FF97FF",
           "#FECB52"
          ],
          "font": {
           "color": "#2a3f5f"
          },
          "geo": {
           "bgcolor": "white",
           "lakecolor": "white",
           "landcolor": "#E5ECF6",
           "showlakes": true,
           "showland": true,
           "subunitcolor": "white"
          },
          "hoverlabel": {
           "align": "left"
          },
          "hovermode": "closest",
          "mapbox": {
           "style": "light"
          },
          "paper_bgcolor": "white",
          "plot_bgcolor": "#E5ECF6",
          "polar": {
           "angularaxis": {
            "gridcolor": "white",
            "linecolor": "white",
            "ticks": ""
           },
           "bgcolor": "#E5ECF6",
           "radialaxis": {
            "gridcolor": "white",
            "linecolor": "white",
            "ticks": ""
           }
          },
          "scene": {
           "xaxis": {
            "backgroundcolor": "#E5ECF6",
            "gridcolor": "white",
            "gridwidth": 2,
            "linecolor": "white",
            "showbackground": true,
            "ticks": "",
            "zerolinecolor": "white"
           },
           "yaxis": {
            "backgroundcolor": "#E5ECF6",
            "gridcolor": "white",
            "gridwidth": 2,
            "linecolor": "white",
            "showbackground": true,
            "ticks": "",
            "zerolinecolor": "white"
           },
           "zaxis": {
            "backgroundcolor": "#E5ECF6",
            "gridcolor": "white",
            "gridwidth": 2,
            "linecolor": "white",
            "showbackground": true,
            "ticks": "",
            "zerolinecolor": "white"
           }
          },
          "shapedefaults": {
           "line": {
            "color": "#2a3f5f"
           }
          },
          "ternary": {
           "aaxis": {
            "gridcolor": "white",
            "linecolor": "white",
            "ticks": ""
           },
           "baxis": {
            "gridcolor": "white",
            "linecolor": "white",
            "ticks": ""
           },
           "bgcolor": "#E5ECF6",
           "caxis": {
            "gridcolor": "white",
            "linecolor": "white",
            "ticks": ""
           }
          },
          "title": {
           "x": 0.05
          },
          "xaxis": {
           "automargin": true,
           "gridcolor": "white",
           "linecolor": "white",
           "ticks": "",
           "title": {
            "standoff": 15
           },
           "zerolinecolor": "white",
           "zerolinewidth": 2
          },
          "yaxis": {
           "automargin": true,
           "gridcolor": "white",
           "linecolor": "white",
           "ticks": "",
           "title": {
            "standoff": 15
           },
           "zerolinecolor": "white",
           "zerolinewidth": 2
          }
         }
        },
        "xaxis": {
         "anchor": "y",
         "domain": [
          0,
          1
         ],
         "title": {
          "text": "index"
         }
        },
        "yaxis": {
         "anchor": "x",
         "domain": [
          0,
          1
         ],
         "title": {
          "text": "value"
         }
        }
       }
      }
     },
     "metadata": {},
     "output_type": "display_data"
    }
   ],
   "source": [
    "px.scatter(df_show, x='index', y='value', color='metric')"
   ]
  },
  {
   "cell_type": "markdown",
   "metadata": {},
   "source": [
    "# Conclusion\n",
    "codebleu looks like the closest metric to subjective score  \n",
    "Thus, although other metrics say it's better to predict after a few charaters of the word were typed,  \n",
    "we probably should try to predict after a word was finished "
   ]
  },
  {
   "cell_type": "markdown",
   "metadata": {},
   "source": [
    "# Future work\n",
    "\n",
    "Try more models and other approaches, for example more context, more prediction etc.  \n",
    "This is more of a toy example showing how such project can be done.  \n"
   ]
  }
 ],
 "metadata": {
  "kernelspec": {
   "display_name": "JB_test",
   "language": "python",
   "name": "python3"
  },
  "language_info": {
   "codemirror_mode": {
    "name": "ipython",
    "version": 3
   },
   "file_extension": ".py",
   "mimetype": "text/x-python",
   "name": "python",
   "nbconvert_exporter": "python",
   "pygments_lexer": "ipython3",
   "version": "3.12.7"
  }
 },
 "nbformat": 4,
 "nbformat_minor": 2
}
