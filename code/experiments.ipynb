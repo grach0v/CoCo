{
 "cells": [
  {
   "cell_type": "code",
   "execution_count": 1,
   "metadata": {},
   "outputs": [],
   "source": [
    "%load_ext autoreload\n",
    "%autoreload 2"
   ]
  },
  {
   "cell_type": "code",
   "execution_count": 2,
   "metadata": {},
   "outputs": [],
   "source": [
    "from base_data_collector import get_files\n",
    "from custom_data_collector import SimpleSplitDataSampler\n",
    "import pandas as pd"
   ]
  },
  {
   "cell_type": "markdown",
   "metadata": {},
   "source": [
    "Create dataset "
   ]
  },
  {
   "cell_type": "code",
   "execution_count": 3,
   "metadata": {},
   "outputs": [],
   "source": [
    "import yaml\n",
    "\n",
    "with open('../configs/simple_sampler.yaml') as f:\n",
    "    config = yaml.load(f, Loader=yaml.FullLoader)"
   ]
  },
  {
   "cell_type": "code",
   "execution_count": 4,
   "metadata": {},
   "outputs": [],
   "source": [
    "py_files = get_files(\n",
    "    dir=config['generate_data']['dir_load'], \n",
    "    extension=config['generate_data']['extension'], \n",
    "    filter_regex=config['generate_data']['filter_regex'],\n",
    "    min_lines=config['generate_data']['min_lines'],\n",
    ")\n"
   ]
  },
  {
   "cell_type": "code",
   "execution_count": 5,
   "metadata": {},
   "outputs": [],
   "source": [
    "py_files = get_files(\n",
    "    dir=config['generate_data']['dir_load'], \n",
    "    extension=config['generate_data']['extension'], \n",
    "    filter_regex=config['generate_data']['filter_regex'],\n",
    "    min_lines=config['generate_data']['min_lines'],\n",
    ")\n",
    "\n",
    "sampler = SimpleSplitDataSampler(\n",
    "    py_files, \n",
    "    max_prefix=config['generate_data']['max_prefix'],\n",
    "    max_middle=config['generate_data']['max_middle'],\n",
    "    max_suffix=config['generate_data']['max_suffix'],\n",
    "    splitters=config['generate_data']['splitters'],\n",
    ")"
   ]
  },
  {
   "cell_type": "code",
   "execution_count": 6,
   "metadata": {},
   "outputs": [],
   "source": [
    "path_load = config['generate_data']['path_load']\n",
    "datasets = [] if path_load is None else [pd.read_parquet(path_load)]"
   ]
  },
  {
   "cell_type": "code",
   "execution_count": 7,
   "metadata": {},
   "outputs": [],
   "source": [
    "for d in config['generate_data']['datasets']:\n",
    "    datasets.append(sampler.sample(**d))"
   ]
  },
  {
   "cell_type": "code",
   "execution_count": 10,
   "metadata": {},
   "outputs": [],
   "source": [
    "dataset = pd.concat(datasets, ignore_index=True)"
   ]
  },
  {
   "cell_type": "code",
   "execution_count": null,
   "metadata": {},
   "outputs": [],
   "source": [
    "dataset['query'] = (\n",
    "    '<fim_prefix>' + dataset['prefix'] + \n",
    "    '<fim_suffix>' + dataset['suffix'] + \n",
    "    '<fim_middle>'\n",
    ")"
   ]
  },
  {
   "cell_type": "code",
   "execution_count": 9,
   "metadata": {},
   "outputs": [],
   "source": [
    "py_files = get_files(\n",
    "    dir='../data/SDF-JEPA-main', \n",
    "    extension='.py', \n",
    "    filter_regex=r'^(?!\\s*(import\\b|#)).*\\S.*$',\n",
    "    min_lines=15,\n",
    ")\n",
    "\n",
    "sampler = SimpleSplitDataSampler(\n",
    "    py_files, \n",
    "    max_prefix=300,\n",
    "    max_middle=300,\n",
    "    max_suffix=300,\n",
    "    splitters=['.', ',', '(', ')', r'\\S*'],\n",
    ")\n",
    "\n",
    "dataset = pd.concat([\n",
    "    sampler.sample(20, strategy='finish_lines', strategy_kwargs={'max_tries': 5}),\n",
    "    sampler.sample(20, strategy='finish_words', strategy_kwargs={'max_tries': 5}),\n",
    "])\n",
    "\n",
    "dataset['query'] = (\n",
    "    '<fim_prefix>' + dataset['prefix'] + \n",
    "    '<fim_suffix>' + dataset['suffix'] + \n",
    "    '<fim_middle>'\n",
    ")"
   ]
  },
  {
   "cell_type": "code",
   "execution_count": 10,
   "metadata": {},
   "outputs": [],
   "source": [
    "from transformers import AutoModelForCausalLM, AutoTokenizer"
   ]
  },
  {
   "cell_type": "code",
   "execution_count": 14,
   "metadata": {},
   "outputs": [],
   "source": [
    "checkpoint = 'bigcode/tiny_starcoder_py'\n",
    "device = 'cuda' # for GPU usage or \"cpu\" for CPU usage\n",
    "max_length = 100\n",
    "\n",
    "tokenizer = AutoTokenizer.from_pretrained(checkpoint, clean_up_tokenization_spaces=True)\n",
    "model = AutoModelForCausalLM.from_pretrained(checkpoint).to(device)"
   ]
  },
  {
   "cell_type": "code",
   "execution_count": 15,
   "metadata": {},
   "outputs": [
    {
     "name": "stderr",
     "output_type": "stream",
     "text": [
      "Setting `pad_token_id` to `eos_token_id`:0 for open-end generation.\n"
     ]
    }
   ],
   "source": [
    "tokenizer.pad_token = tokenizer.eos_token\n",
    "tokenizer.padding_side = 'left'\n",
    "inputs, masks = tokenizer(dataset['query'].to_list(), padding=True, return_tensors='pt').values()\n",
    "inputs = inputs.to(device)\n",
    "masks = masks.to(device)\n",
    "\n",
    "outputs = model.generate(inputs, attention_mask=masks, max_length=max_length)"
   ]
  },
  {
   "cell_type": "code",
   "execution_count": 20,
   "metadata": {},
   "outputs": [],
   "source": [
    "outputs_text = tokenizer.batch_decode(outputs)"
   ]
  },
  {
   "cell_type": "code",
   "execution_count": 31,
   "metadata": {},
   "outputs": [
    {
     "name": "stdout",
     "output_type": "stream",
     "text": [
      "return_attention:\n",
      "            return attn\n",
      "        x = x + y\n",
      "        x = x + self.mlp(self.norm2(x))\n",
      "        return x\n",
      "\n",
      "\n",
      "class CrossAttention(nn.Module):\n",
      "    def __init__(\n",
      "        self,\n",
      "        dim,\n",
      "        num_heads=12,\n",
      "        qkv_bias=False,\n",
      "        use_sdpa=True\n",
      "    ):\n",
      "        super().__init__()\n",
      " \n"
     ]
    }
   ],
   "source": [
    "print(dataset.iloc[34]['prefix'])"
   ]
  },
  {
   "cell_type": "code",
   "execution_count": 32,
   "metadata": {},
   "outputs": [
    {
     "name": "stdout",
     "output_type": "stream",
     "text": [
      "       self.num_heads = num_heads\n"
     ]
    }
   ],
   "source": [
    "print(dataset.iloc[34]['middle'])"
   ]
  },
  {
   "cell_type": "code",
   "execution_count": 33,
   "metadata": {},
   "outputs": [
    {
     "name": "stdout",
     "output_type": "stream",
     "text": [
      "<fim_middle>       self.num_heads = num_heads\n",
      "        head_dim = dim // num_heads\n",
      "        self.scale = head_dim ** -0.5\n",
      "        self.q = nn.Linear(dim, dim, bias=qkv_bias)\n",
      "        self.kv = nn.Linear(dim, int(dim*2), bias=qkv_bias)\n",
      "        self.proj = nn.Linear(dim, dim)\n",
      "        self.use_sdpa = use_sdpa\n",
      "\n",
      "    def forward(self, q, x):\n",
      "        B, N, C = q.shape\n",
      "        q = q.reshape(B, N, C // self.num_heads, C // self.num_heads).permute(0, 2, 1, 3)\n",
      "        q = q.reshape(B, N, C // self.num_heads, C // self.num_heads).permute(0, 2, 1, 3)\n",
      "        q = q.permute(0, 2, 1, 3).reshape(B, N, C, C)\n",
      "        q = q.permute(0, 2, 1, 3).reshape(B, N, C, C)\n",
      "        q = q.reshape(B, N, C, C)\n",
      "        q = self.q(q)\n",
      "        q = q.reshape(B, N, C, C)\n",
      "        q = self.kv(q)\n",
      "        q = q.reshape(B, N, C, C)\n",
      "        q = self.proj(q)\n",
      "        if self.use_sdpa:\n",
      "            q = q.permute(0, 2, 1, 3).reshape(B, N, C, C)\n",
      "        return q\n",
      "\n",
      "\n",
      "class MultiHeadAttention(nn.Module):\n",
      "    def __init__(\n",
      "        self,\n",
      "        dim,\n",
      "        num_heads=12,\n",
      "        qkv_bias=False,\n",
      "        use_sdpa=True\n",
      "    ):\n",
      "        super().__init__()\n",
      "        self.num_heads = num_heads\n",
      "        head_dim = dim // num_heads\n",
      "        self.scale = head_dim ** -0.5\n",
      "        self.q = nn.Linear(dim, dim, bias=qkv_bias)\n",
      "        self.kv = nn.Linear(dim, int(dim*2), bias=qkv_bias)\n",
      "        self.proj = nn.Linear(dim, dim)\n",
      "        self.use_sdpa = use_sdpa\n",
      "\n",
      "    def forward(self, q, x):\n",
      "        B, N, C = q.shape\n",
      "        q = q.reshape(B, N, C // self.num_heads, C // self.num_heads).permute(0, 2, 1, 3)\n",
      "        q = q.reshape(B, N, C // self.num_heads, C // self.num_heads).permute(0, 2, 1, 3)\n",
      "        q = q.permute(0, 2, 1, 3).reshape(B, N, C, C)\n",
      "        q = q.permute(0, 2, 1, 3).reshape(B, N, C, C)\n",
      "        q = q.reshape(B, N, C, C)\n",
      "        q = self.q(q)\n",
      "        q = q.reshape(B, N, C, C)\n",
      "        q = self.kv(q)\n",
      "        q = q.reshape(B, N, C, C)\n",
      "        q = self.proj(q)\n",
      "        if self.use_sdpa:\n",
      "            q = q.permute(0, 2, 1, 3).reshape(B, N, C, C)\n",
      "        return q\n",
      "\n",
      "\n",
      "class MultiHeadAttention_v2(nn.Module):\n",
      "    def __init__(\n",
      "        self,\n",
      "        dim,\n",
      "        num_heads=12,\n",
      "        qkv_bias=False,\n",
      "        use_sdpa=True\n",
      "    ):\n",
      "        super().__init__()\n",
      "        self.num_heads = num_heads\n",
      "        head_dim = dim // num_heads\n",
      "        self.scale = head_dim ** -0.5\n",
      "        self.q = nn.Linear(dim, dim, bias=qkv_bias)\n",
      "        self.kv = nn.Linear(dim, int(dim*2), bias=qkv_bias)\n",
      "        self.proj = nn.Linear(dim, dim)\n",
      "        self.use_sdpa = use_sdpa\n",
      "\n",
      "    def forward(self, q, x):\n",
      "        B, N, C = q.shape\n",
      "        q = q.reshape(B, N, C // self.num_heads, C // self.num_heads).permute(0, 2, 1, 3)\n",
      "        q = q.reshape(B, N, C // self.num_heads, C // self.num_heads).permute(0, 2, 1, 3)\n",
      "        q = q.permute(0, 2, 1, 3).reshape(B, N, C, C)\n",
      "        q = q.permute(0, 2, 1, 3).reshape(B, N, C, C)\n",
      "        q = q.reshape(B, N, C, C)\n",
      "        q = self.q(q)\n",
      "        q = q.reshape(B, N, C, C)\n",
      "        q = self.kv(q)\n",
      "        q = q.reshape(B, N, C, C)\n",
      "        q = self.proj(q)\n",
      "        if self.use_sdpa:\n",
      "            q = q.permute(0, 2, 1, 3).reshape(B, N, C, C)\n",
      "        return q\n",
      "\n",
      "\n",
      "class MultiHeadAttention_v3(nn.Module):\n",
      "    def __init__(\n",
      "        self,\n",
      "        dim,\n",
      "        num_heads=12,\n",
      "        qkv_bias=False,\n",
      "        use_sdpa=True\n",
      "    ):\n",
      "        super().__init__()\n",
      "        self.num_heads = num_heads\n",
      "        head_dim = dim // num_heads\n",
      "        self.scale = head_dim ** -0.5\n",
      "        self.q = nn.Linear(dim, dim, bias=qkv_bias)\n",
      "        self.kv = nn.Linear(dim, int(dim*2), bias=qkv_bias)\n",
      "        self.proj = nn.Linear(dim, dim)\n",
      "        self.use_sdpa = use_sdpa\n",
      "\n",
      "    def forward(self, q, x):\n",
      "        B, N, C = q.shape\n",
      "        q = q.reshape(B, N, C // self.num_heads, C // self.num_heads).permute(0, 2, 1, 3)\n",
      "        q = q.reshape(B, N, C // self.num_heads, C // self.num_heads).permute(0, 2, 1, 3)\n",
      "        q = q.permute(0, 2, 1, 3).reshape(B, N, C, C)\n",
      "        q = q.permute(0, 2, 1, 3).reshape(B, N, C, C)\n",
      "        q = q.reshape(B, N, C, C)\n",
      "        q = self.q(q)\n",
      "        q = q.reshape(B, N, C, C)\n",
      "        q = self.kv(q)\n",
      "        q = q.reshape(B, N, C, C)\n",
      "        q = self.proj(q)\n",
      "        if self.use_sdpa:\n",
      "            q = q.permute(0, 2, 1, 3).reshape(B, N, C, C)\n",
      "        return q\n",
      "\n",
      "\n",
      "class MultiHeadAttention_v4(nn.Module):\n",
      "    def __init__(\n",
      "        self,\n",
      "        dim,\n",
      "        num_heads=12,\n",
      "        qkv_bias=False,\n",
      "        use_sdpa=True\n",
      "    ):\n",
      "        super().__init__()\n",
      "        self.num_heads = num_heads\n",
      "        head_dim = dim // num_heads\n",
      "        self.scale = head_dim ** -0.5\n",
      "        self.q = nn.Linear(dim, dim, bias=qkv_bias)\n",
      "        self.kv = nn.Linear(dim, int(dim*2), bias=qkv_bias)\n",
      "        self.proj = nn.Linear(dim, dim)\n",
      "        self.use_sdpa = use_sdpa\n",
      "\n",
      "    def forward(self, q, x):\n",
      "        B, N, C = q.shape\n",
      "        q = q.reshape(B, N, C // self.num_heads, C // self.num_heads).permute(0, 2, 1, 3)\n",
      "        q = q.reshape(B, N, C // self.num_heads, C // self.num_heads).permute(0, 2, 1, 3)\n",
      "        q = q.permute(0, 2, 1, 3).reshape(B, N, C, C)\n",
      "        q = q.permute(0, 2, 1, 3).reshape(B, N, C, C)\n",
      "        q = q.reshape(B, N, C, C)\n",
      "        q = self.q(q)\n",
      "        q = q.reshape(B, N, C, C)\n",
      "        q = self.kv(q)\n",
      "        q = q.reshape(B, N, C, C)\n",
      "        q = self.proj(q)\n",
      "        if self.use_sdpa:\n",
      "            q = q.permute(0, 2, 1, 3).reshape(B, N, C, C)\n",
      "        return q\n",
      "\n",
      "\n",
      "class MultiHeadAttention_v5(nn.Module):\n",
      "    def __init__(\n",
      "        self,\n",
      "        dim,\n",
      "        num_heads=12,\n",
      "        qkv_bias=False,\n",
      "        use_sdpa=True\n",
      "    ):\n",
      "        super().__init__()\n",
      "        self.num_heads = num_heads\n",
      "        head_dim = dim // num_heads\n",
      "        self.scale = head_dim ** -0.5\n",
      "        self.q = nn.Linear(dim, dim, bias=qkv_bias)\n",
      "        self.kv = nn.Linear(dim, int(dim*2), bias=qkv_bias)\n",
      "        self.proj = nn.Linear(dim, dim)\n",
      "        self.use_sdpa = use_sdpa\n",
      "\n",
      "    def forward(self, q, x):\n",
      "        B, N, C = q.shape\n",
      "        q = q.reshape(B, N, C // self.num_heads, C // self.num_heads).permute(0, 2, 1, 3)\n",
      "        q = q.reshape(B, N, C // self.num_heads, C // self.num_heads).permute(0, 2, 1, 3)\n",
      "        q = q.permute(0, 2, 1, 3).reshape(B, N, C, C)\n",
      "        q = q.permute(0, 2, 1, 3).reshape(B, N, C, C)\n",
      "        q = q.reshape(B, N, C, C)\n",
      "        q = self.q(q)\n",
      "        q = q.reshape(B, N, C, C)\n",
      "        q = self.kv(q)\n",
      "        q = q.reshape(B, N, C, C)\n",
      "        q = self.proj(q)\n",
      "        if self.use_sdpa:\n",
      "            q = q.permute(0, 2, 1, 3).reshape(B, N, C, C)\n",
      "        return q\n",
      "\n",
      "\n",
      "class MultiHeadAttention_v6(nn.Module):\n",
      "    def __init__(\n",
      "        self,\n",
      "        dim,\n",
      "        num_heads=12,\n",
      "        qkv_bias=False,\n",
      "        use_sdpa=True\n",
      "    ):\n",
      "        super().__init__()\n",
      "        self.num_heads = num_heads\n",
      "        head_dim = dim // num_heads\n",
      "        self.scale = head_dim ** -0.5\n",
      "        self.q = nn.Linear(dim, dim, bias=qkv_bias)\n",
      "        self.kv = nn.Linear(dim, int(dim*2), bias=qkv_bias)\n",
      "        self.proj = nn.Linear(dim, dim)\n",
      "        self.use_sdpa = use_sdpa\n",
      "\n",
      "    def forward(self, q, x):\n",
      "        B, N, C = q.shape\n",
      "        q = q.reshape(B, N, C // self.num_heads, C // self.num_heads).permute(0, 2, 1, 3)\n",
      "        q = q.reshape(B, N, C // self.num_heads, C // self.num_heads).permute(0, 2, 1, 3)\n",
      "        q =\n"
     ]
    }
   ],
   "source": [
    "print(outputs_text[34][outputs_text[34].find('<fim_middle>'):])"
   ]
  },
  {
   "cell_type": "code",
   "execution_count": 22,
   "metadata": {},
   "outputs": [
    {
     "data": {
      "text/plain": [
       "1092"
      ]
     },
     "execution_count": 22,
     "metadata": {},
     "output_type": "execute_result"
    }
   ],
   "source": [
    "outputs_text[0].find('<fim_middle>')"
   ]
  },
  {
   "cell_type": "code",
   "execution_count": null,
   "metadata": {},
   "outputs": [],
   "source": [
    "print(dataset['query'].iloc[0])"
   ]
  },
  {
   "cell_type": "code",
   "execution_count": null,
   "metadata": {},
   "outputs": [],
   "source": [
    "print(outputs_text[0])"
   ]
  },
  {
   "cell_type": "code",
   "execution_count": null,
   "metadata": {},
   "outputs": [],
   "source": []
  }
 ],
 "metadata": {
  "kernelspec": {
   "display_name": "base",
   "language": "python",
   "name": "python3"
  },
  "language_info": {
   "codemirror_mode": {
    "name": "ipython",
    "version": 3
   },
   "file_extension": ".py",
   "mimetype": "text/x-python",
   "name": "python",
   "nbconvert_exporter": "python",
   "pygments_lexer": "ipython3",
   "version": "3.12.4"
  }
 },
 "nbformat": 4,
 "nbformat_minor": 2
}
