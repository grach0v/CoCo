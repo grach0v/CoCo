{
 "cells": [
  {
   "cell_type": "code",
   "execution_count": 1,
   "metadata": {},
   "outputs": [],
   "source": [
    "# Generate examples of 2 types \n",
    "# Very general and useful code\n",
    "# Run model \n",
    "\n",
    "# Please read the source code \n",
    "# I put a lot of effort in it \n",
    "\n",
    "# Uncomment to get new dataset\n",
    "# Taked 10 seconds\n",
    "# !python generater.py ../configs/simple_sampler.yaml"
   ]
  },
  {
   "cell_type": "code",
   "execution_count": 2,
   "metadata": {},
   "outputs": [],
   "source": [
    "import pandas as pd \n",
    "from ipywidgets import widgets "
   ]
  },
  {
   "cell_type": "code",
   "execution_count": 3,
   "metadata": {},
   "outputs": [
    {
     "data": {
      "text/html": [
       "<div>\n",
       "<style scoped>\n",
       "    .dataframe tbody tr th:only-of-type {\n",
       "        vertical-align: middle;\n",
       "    }\n",
       "\n",
       "    .dataframe tbody tr th {\n",
       "        vertical-align: top;\n",
       "    }\n",
       "\n",
       "    .dataframe thead th {\n",
       "        text-align: right;\n",
       "    }\n",
       "</style>\n",
       "<table border=\"1\" class=\"dataframe\">\n",
       "  <thead>\n",
       "    <tr style=\"text-align: right;\">\n",
       "      <th></th>\n",
       "      <th>filename</th>\n",
       "      <th>prefix</th>\n",
       "      <th>middle</th>\n",
       "      <th>suffix</th>\n",
       "      <th>meta</th>\n",
       "      <th>query</th>\n",
       "      <th>output</th>\n",
       "    </tr>\n",
       "  </thead>\n",
       "  <tbody>\n",
       "    <tr>\n",
       "      <th>0</th>\n",
       "      <td>../data/SDF-JEPA-main/evals/main.py</td>\n",
       "      <td>,\\n    default='configs.yaml')\\nparser.add_arg...</td>\n",
       "      <td>)\\n\\n</td>\n",
       "      <td>import logging\\n    logging.basicConfig()\\...</td>\n",
       "      <td>finish_lines</td>\n",
       "      <td>&lt;fim_prefix&gt;,\\n    default='configs.yaml')\\npa...</td>\n",
       "      <td>)\\n    os.environ['MASTER_ADDR'] = 'localhost'...</td>\n",
       "    </tr>\n",
       "    <tr>\n",
       "      <th>1</th>\n",
       "      <td>../data/SDF-JEPA-main/src/models/vision_transf...</td>\n",
       "      <td>cale(layer.mlp.fc2.weight.data, layer_id + 1)\\...</td>\n",
       "      <td>(remove)\\n        \"\"\"\\n\\n</td>\n",
       "      <td>if masks is not None and not isinstanc...</td>\n",
       "      <td>finish_lines</td>\n",
       "      <td>&lt;fim_prefix&gt;cale(layer.mlp.fc2.weight.data, la...</td>\n",
       "      <td>and mask tokens\\n        :return:\\n        \"\"\"...</td>\n",
       "    </tr>\n",
       "    <tr>\n",
       "      <th>2</th>\n",
       "      <td>../data/SDF-JEPA-main/app/vjepa/train.py</td>\n",
       "      <td>th=dataset_eval_paths,\\n         batch_size=ba...</td>\n",
       "      <td>,\\n         transform=transform,\\n</td>\n",
       "      <td>datasets_weights=datasets_weights,\\n ...</td>\n",
       "      <td>finish_lines</td>\n",
       "      <td>&lt;fim_prefix&gt;th=dataset_eval_paths,\\n         b...</td>\n",
       "      <td>_per_video,\\n         num_clips_per_clip=num_c...</td>\n",
       "    </tr>\n",
       "    <tr>\n",
       "      <th>3</th>\n",
       "      <td>../data/SDF-JEPA-main/src/models/utils/patch_e...</td>\n",
       "      <td>roj = nn.Conv2d(in_chans, embed_dim, kernel_si...</td>\n",
       "      <td>(\\n        self,\\n        patch_size=16,\\n</td>\n",
       "      <td>tubelet_size=2,\\n        in_chans=3,\\n...</td>\n",
       "      <td>finish_lines</td>\n",
       "      <td>&lt;fim_prefix&gt;roj = nn.Conv2d(in_chans, embed_di...</td>\n",
       "      <td>(self, in_chans, embed_dim):\\n        super()....</td>\n",
       "    </tr>\n",
       "    <tr>\n",
       "      <th>4</th>\n",
       "      <td>../data/SDF-JEPA-main/src/models/utils/multima...</td>\n",
       "      <td>outs = []\\n        for m in masks:\\n        ...</td>\n",
       "      <td>):\\n        if type(ctxt) is not list:\\n      ...</td>\n",
       "      <td>if type(tgt) is not list:\\n           ...</td>\n",
       "      <td>finish_lines</td>\n",
       "      <td>&lt;fim_prefix&gt;  outs = []\\n        for m in mask...</td>\n",
       "      <td>):\\n        ctxt = [self.backbone(x, masks=m) ...</td>\n",
       "    </tr>\n",
       "  </tbody>\n",
       "</table>\n",
       "</div>"
      ],
      "text/plain": [
       "                                            filename  \\\n",
       "0                ../data/SDF-JEPA-main/evals/main.py   \n",
       "1  ../data/SDF-JEPA-main/src/models/vision_transf...   \n",
       "2           ../data/SDF-JEPA-main/app/vjepa/train.py   \n",
       "3  ../data/SDF-JEPA-main/src/models/utils/patch_e...   \n",
       "4  ../data/SDF-JEPA-main/src/models/utils/multima...   \n",
       "\n",
       "                                              prefix  \\\n",
       "0  ,\\n    default='configs.yaml')\\nparser.add_arg...   \n",
       "1  cale(layer.mlp.fc2.weight.data, layer_id + 1)\\...   \n",
       "2  th=dataset_eval_paths,\\n         batch_size=ba...   \n",
       "3  roj = nn.Conv2d(in_chans, embed_dim, kernel_si...   \n",
       "4    outs = []\\n        for m in masks:\\n        ...   \n",
       "\n",
       "                                              middle  \\\n",
       "0                                              )\\n\\n   \n",
       "1                          (remove)\\n        \"\"\"\\n\\n   \n",
       "2                 ,\\n         transform=transform,\\n   \n",
       "3         (\\n        self,\\n        patch_size=16,\\n   \n",
       "4  ):\\n        if type(ctxt) is not list:\\n      ...   \n",
       "\n",
       "                                              suffix          meta  \\\n",
       "0      import logging\\n    logging.basicConfig()\\...  finish_lines   \n",
       "1          if masks is not None and not isinstanc...  finish_lines   \n",
       "2           datasets_weights=datasets_weights,\\n ...  finish_lines   \n",
       "3          tubelet_size=2,\\n        in_chans=3,\\n...  finish_lines   \n",
       "4          if type(tgt) is not list:\\n           ...  finish_lines   \n",
       "\n",
       "                                               query  \\\n",
       "0  <fim_prefix>,\\n    default='configs.yaml')\\npa...   \n",
       "1  <fim_prefix>cale(layer.mlp.fc2.weight.data, la...   \n",
       "2  <fim_prefix>th=dataset_eval_paths,\\n         b...   \n",
       "3  <fim_prefix>roj = nn.Conv2d(in_chans, embed_di...   \n",
       "4  <fim_prefix>  outs = []\\n        for m in mask...   \n",
       "\n",
       "                                              output  \n",
       "0  )\\n    os.environ['MASTER_ADDR'] = 'localhost'...  \n",
       "1  and mask tokens\\n        :return:\\n        \"\"\"...  \n",
       "2  _per_video,\\n         num_clips_per_clip=num_c...  \n",
       "3  (self, in_chans, embed_dim):\\n        super()....  \n",
       "4  ):\\n        ctxt = [self.backbone(x, masks=m) ...  "
      ]
     },
     "execution_count": 3,
     "metadata": {},
     "output_type": "execute_result"
    }
   ],
   "source": [
    "df = pd.read_parquet('../data/prepared.parquet')\n",
    "df.head()"
   ]
  },
  {
   "cell_type": "code",
   "execution_count": 4,
   "metadata": {},
   "outputs": [],
   "source": [
    "from IPython.display import HTML\n",
    "import ipywidgets as widgets\n",
    "\n",
    "def format_text(prefix, middle, suffix):\n",
    "    # Replace \\n with <br> for HTML line breaks\n",
    "    prefix = prefix.replace('\\n', '<br>')\n",
    "    middle = middle.replace('\\n', '<br>')\n",
    "    suffix = suffix.replace('\\n', '<br>')\n",
    "\n",
    "    # Replace \\t with a series of non-breaking spaces for HTML tabs\n",
    "    prefix = prefix.replace('\\t', '&nbsp;' * 4)\n",
    "    middle = middle.replace('\\t', '&nbsp;' * 4)\n",
    "    suffix = suffix.replace('\\t', '&nbsp;' * 4)\n",
    "\n",
    "    return f\"<pre>{prefix}<span style='color:red'>{middle}</span>{suffix}</pre>\"\n",
    "\n",
    "def create_widget(prefix, middle, suffix, output):\n",
    "\n",
    "    output_true = widgets.Output()\n",
    "    with output_true:\n",
    "        display(HTML(format_text(prefix, middle, suffix)))\n",
    "\n",
    "    output_pred = widgets.Output()\n",
    "    with output_pred:\n",
    "        display(HTML(format_text(prefix, output, suffix)))\n",
    "\n",
    "    # Create titles\n",
    "    title_true = widgets.HTML(\"<h3>True</h3>\")\n",
    "    title_pred = widgets.HTML(\"<h3>Predicted</h3>\")\n",
    "\n",
    "    # Stack titles and outputs vertically\n",
    "    column_true = widgets.VBox([title_true, output_true])\n",
    "    column_pred = widgets.VBox([title_pred, output_pred])\n",
    "\n",
    "    # Add space between columns\n",
    "    column_true.layout.margin = '0 20px 0 0'  # 20px right margin for the first column\n",
    "\n",
    "    two_columns = widgets.HBox([column_true, column_pred])\n",
    "\n",
    "    return two_columns"
   ]
  },
  {
   "cell_type": "markdown",
   "metadata": {},
   "source": [
    "Let's look 5 random examples from both strategies "
   ]
  },
  {
   "cell_type": "markdown",
   "metadata": {},
   "source": [
    "## Finish Lines\n",
    "Finish lines strategy tries to predict 1-2 lines,  \n",
    "when user finished typing specific token.  \n",
    "This could be predicting after \",\" or \".\" or \")\"  \n",
    "For the full list and more precise behaviour please read the config at source code"
   ]
  },
  {
   "cell_type": "code",
   "execution_count": 5,
   "metadata": {},
   "outputs": [],
   "source": [
    "finish_lines_df = df.query('meta == \"finish_lines\"').sample(5, random_state=123).reset_index()"
   ]
  },
  {
   "cell_type": "code",
   "execution_count": 6,
   "metadata": {},
   "outputs": [
    {
     "data": {
      "application/vnd.jupyter.widget-view+json": {
       "model_id": "b2448e617e4248b8a625a01b82ed9a05",
       "version_major": 2,
       "version_minor": 0
      },
      "text/plain": [
       "HBox(children=(VBox(children=(HTML(value='<h3>True</h3>'), Output()), layout=Layout(margin='0 20px 0 0')), VBo…"
      ]
     },
     "metadata": {},
     "output_type": "display_data"
    }
   ],
   "source": [
    "widget = create_widget(*finish_lines_df.loc[0, ['prefix', 'middle', 'suffix', 'output']])\n",
    "display(widget)"
   ]
  },
  {
   "cell_type": "markdown",
   "metadata": {},
   "source": [
    "## Good: \n",
    "- predicted argv correcly \n",
    "- started loop correctly\n",
    "\n",
    "## Bad \n",
    "- Didn't take into account that i is compared to len, thus should start enumerate from 1\n",
    "- Created random function \n",
    "\n",
    "## Overall subjective score\n",
    "3 / 10"
   ]
  },
  {
   "cell_type": "code",
   "execution_count": 7,
   "metadata": {},
   "outputs": [
    {
     "data": {
      "application/vnd.jupyter.widget-view+json": {
       "model_id": "9b2ec5fa9ccc49b68bcb0a6ceaf76261",
       "version_major": 2,
       "version_minor": 0
      },
      "text/plain": [
       "HBox(children=(VBox(children=(HTML(value='<h3>True</h3>'), Output()), layout=Layout(margin='0 20px 0 0')), VBo…"
      ]
     },
     "metadata": {},
     "output_type": "display_data"
    }
   ],
   "source": [
    "widget = create_widget(*finish_lines_df.loc[1, ['prefix', 'middle', 'suffix', 'output']])\n",
    "display(widget)"
   ]
  },
  {
   "cell_type": "markdown",
   "metadata": {},
   "source": [
    "Unfortunetly not great example, because it's just a comma  \n",
    "## Good \n",
    "- Comma \n",
    "## Bad \n",
    "- Broken grammar\n",
    "- Stupid repeated params\n",
    "\n",
    "## Overall subjective score\n",
    "1 / 10"
   ]
  },
  {
   "cell_type": "code",
   "execution_count": 8,
   "metadata": {},
   "outputs": [
    {
     "data": {
      "application/vnd.jupyter.widget-view+json": {
       "model_id": "0d99445540954212b10c4728ee997de3",
       "version_major": 2,
       "version_minor": 0
      },
      "text/plain": [
       "HBox(children=(VBox(children=(HTML(value='<h3>True</h3>'), Output()), layout=Layout(margin='0 20px 0 0')), VBo…"
      ]
     },
     "metadata": {},
     "output_type": "display_data"
    }
   ],
   "source": [
    "widget = create_widget(*finish_lines_df.loc[2, ['prefix', 'middle', 'suffix', 'output']])\n",
    "display(widget)"
   ]
  },
  {
   "cell_type": "markdown",
   "metadata": {},
   "source": [
    "## Good \n",
    "- Correcly finished method header \n",
    "\n",
    "## Bad \n",
    "- Did nonesence to passed params \n",
    "\n",
    "## Overall subjective score \n",
    "2 / 10"
   ]
  },
  {
   "cell_type": "code",
   "execution_count": 9,
   "metadata": {},
   "outputs": [
    {
     "data": {
      "application/vnd.jupyter.widget-view+json": {
       "model_id": "4af269a971bc44bca2251c585344612b",
       "version_major": 2,
       "version_minor": 0
      },
      "text/plain": [
       "HBox(children=(VBox(children=(HTML(value='<h3>True</h3>'), Output()), layout=Layout(margin='0 20px 0 0')), VBo…"
      ]
     },
     "metadata": {},
     "output_type": "display_data"
    }
   ],
   "source": [
    "widget = create_widget(*finish_lines_df.loc[3, ['prefix', 'middle', 'suffix', 'output']])\n",
    "display(widget)"
   ]
  },
  {
   "cell_type": "markdown",
   "metadata": {},
   "source": [
    "## Good \n",
    "- Looks plausable \n",
    "- Almost correct\n",
    "\n",
    "## Bad \n",
    "- Wrong and unnecessary second argument \n",
    "\n",
    "## Overall subjective score \n",
    "4 / 10"
   ]
  },
  {
   "cell_type": "code",
   "execution_count": 10,
   "metadata": {},
   "outputs": [
    {
     "data": {
      "application/vnd.jupyter.widget-view+json": {
       "model_id": "1c58b79aeaa04ba2be429b54a86f5721",
       "version_major": 2,
       "version_minor": 0
      },
      "text/plain": [
       "HBox(children=(VBox(children=(HTML(value='<h3>True</h3>'), Output()), layout=Layout(margin='0 20px 0 0')), VBo…"
      ]
     },
     "metadata": {},
     "output_type": "display_data"
    }
   ],
   "source": [
    "widget = create_widget(*finish_lines_df.loc[4, ['prefix', 'middle', 'suffix', 'output']])\n",
    "display(widget)"
   ]
  },
  {
   "cell_type": "markdown",
   "metadata": {},
   "source": [
    "## Good\n",
    "- Correctly created argument\n",
    "\n",
    "## Bad \n",
    "- Not what intended \n",
    "- Wrong second arg\n",
    "\n",
    "## Overall subjective score \n",
    "3 / 10"
   ]
  },
  {
   "cell_type": "markdown",
   "metadata": {},
   "source": [
    "# Finish Words\n",
    "\n",
    "Finish words strategy tries to predict a few words after user started typing one word. "
   ]
  },
  {
   "cell_type": "code",
   "execution_count": 11,
   "metadata": {},
   "outputs": [],
   "source": [
    "finish_words_df = df.query('meta == \"finish_words\"').sample(5, random_state=123).reset_index()"
   ]
  },
  {
   "cell_type": "code",
   "execution_count": 12,
   "metadata": {},
   "outputs": [
    {
     "data": {
      "application/vnd.jupyter.widget-view+json": {
       "model_id": "8844468419eb471883d943488d33663e",
       "version_major": 2,
       "version_minor": 0
      },
      "text/plain": [
       "HBox(children=(VBox(children=(HTML(value='<h3>True</h3>'), Output()), layout=Layout(margin='0 20px 0 0')), VBo…"
      ]
     },
     "metadata": {},
     "output_type": "display_data"
    }
   ],
   "source": [
    "widget = create_widget(*finish_words_df.loc[0, ['prefix', 'middle', 'suffix', 'output']])\n",
    "display(widget)"
   ]
  },
  {
   "cell_type": "markdown",
   "metadata": {},
   "source": [
    "## Good \n",
    "- Basically correct grammar \n",
    "\n",
    "## Bad \n",
    "- Did nonesence \n",
    "  \n",
    "## Overall subjective score \n",
    "2 / 10"
   ]
  },
  {
   "cell_type": "code",
   "execution_count": 13,
   "metadata": {},
   "outputs": [
    {
     "data": {
      "application/vnd.jupyter.widget-view+json": {
       "model_id": "3aac6a2a51ea4dd2b01eec0057166eef",
       "version_major": 2,
       "version_minor": 0
      },
      "text/plain": [
       "HBox(children=(VBox(children=(HTML(value='<h3>True</h3>'), Output()), layout=Layout(margin='0 20px 0 0')), VBo…"
      ]
     },
     "metadata": {},
     "output_type": "display_data"
    }
   ],
   "source": [
    "widget = create_widget(*finish_words_df.loc[1, ['prefix', 'middle', 'suffix', 'output']])\n",
    "display(widget)"
   ]
  },
  {
   "cell_type": "markdown",
   "metadata": {},
   "source": [
    "## Good\n",
    "- Nothing \n",
    "\n",
    "## Bad \n",
    "- Wrong args \n",
    "- Wrong grammar  \n",
    "\n",
    "## Overall subjective score \n",
    "2 / 10"
   ]
  },
  {
   "cell_type": "code",
   "execution_count": 14,
   "metadata": {},
   "outputs": [
    {
     "data": {
      "application/vnd.jupyter.widget-view+json": {
       "model_id": "5ad844e87e1549f9bd34abae8b50f699",
       "version_major": 2,
       "version_minor": 0
      },
      "text/plain": [
       "HBox(children=(VBox(children=(HTML(value='<h3>True</h3>'), Output()), layout=Layout(margin='0 20px 0 0')), VBo…"
      ]
     },
     "metadata": {},
     "output_type": "display_data"
    }
   ],
   "source": [
    "widget = create_widget(*finish_words_df.loc[2, ['prefix', 'middle', 'suffix', 'output']])\n",
    "display(widget)"
   ]
  },
  {
   "cell_type": "markdown",
   "metadata": {},
   "source": [
    "## Good \n",
    "- Correct\n",
    "\n",
    "## Bad \n",
    "- Slightly more than required \n",
    "\n",
    "## Overall subjective score \n",
    "9 / 10"
   ]
  },
  {
   "cell_type": "code",
   "execution_count": 16,
   "metadata": {},
   "outputs": [
    {
     "data": {
      "application/vnd.jupyter.widget-view+json": {
       "model_id": "82fe777465f74de68b1e61eba36b6e01",
       "version_major": 2,
       "version_minor": 0
      },
      "text/plain": [
       "HBox(children=(VBox(children=(HTML(value='<h3>True</h3>'), Output()), layout=Layout(margin='0 20px 0 0')), VBo…"
      ]
     },
     "metadata": {},
     "output_type": "display_data"
    }
   ],
   "source": [
    "widget = create_widget(*finish_words_df.loc[3, ['prefix', 'middle', 'suffix', 'output']])\n",
    "display(widget)"
   ]
  },
  {
   "cell_type": "markdown",
   "metadata": {},
   "source": [
    "## Good \n",
    "- Plausable continuation\n",
    "- Almost correcrt grammar \n",
    "\n",
    "## Bad \n",
    "- Not correct \n",
    "\n",
    "## Overall subjective score \n",
    "6 / 10 "
   ]
  },
  {
   "cell_type": "code",
   "execution_count": 17,
   "metadata": {},
   "outputs": [
    {
     "data": {
      "application/vnd.jupyter.widget-view+json": {
       "model_id": "ad3cf021ca7f474fb37bc55082835bd0",
       "version_major": 2,
       "version_minor": 0
      },
      "text/plain": [
       "HBox(children=(VBox(children=(HTML(value='<h3>True</h3>'), Output()), layout=Layout(margin='0 20px 0 0')), VBo…"
      ]
     },
     "metadata": {},
     "output_type": "display_data"
    }
   ],
   "source": [
    "widget = create_widget(*finish_words_df.loc[4, ['prefix', 'middle', 'suffix', 'output']])\n",
    "display(widget)"
   ]
  },
  {
   "cell_type": "markdown",
   "metadata": {},
   "source": [
    "## Good \n",
    "- Almost plausable \n",
    "\n",
    "## Bad \n",
    "- Not correct \n",
    "\n",
    "## Overall subjective score\n",
    "4 / 10"
   ]
  },
  {
   "cell_type": "markdown",
   "metadata": {},
   "source": [
    "# Hypothesis \n",
    "\n",
    "Predicting after a word was started is much better, than after a comma or any other separator "
   ]
  },
  {
   "cell_type": "code",
   "execution_count": 19,
   "metadata": {},
   "outputs": [],
   "source": [
    "from codebleu import calc_codebleu\n",
    "from nltk.translate.bleu_score import sentence_bleu\n",
    "import plotly.express as px"
   ]
  },
  {
   "cell_type": "code",
   "execution_count": 30,
   "metadata": {},
   "outputs": [
    {
     "ename": "TypeError",
     "evalue": "an integer is required",
     "output_type": "error",
     "traceback": [
      "\u001b[0;31m---------------------------------------------------------------------------\u001b[0m",
      "\u001b[0;31mTypeError\u001b[0m                                 Traceback (most recent call last)",
      "Cell \u001b[0;32mIn[30], line 1\u001b[0m\n\u001b[0;32m----> 1\u001b[0m \u001b[43mcalc_codebleu\u001b[49m\u001b[43m(\u001b[49m\u001b[43mdf\u001b[49m\u001b[38;5;241;43m.\u001b[39;49m\u001b[43mloc\u001b[49m\u001b[43m[\u001b[49m\u001b[43m:\u001b[49m\u001b[43m,\u001b[49m\u001b[43m \u001b[49m\u001b[38;5;124;43m'\u001b[39;49m\u001b[38;5;124;43mmiddle\u001b[39;49m\u001b[38;5;124;43m'\u001b[39;49m\u001b[43m]\u001b[49m\u001b[38;5;241;43m.\u001b[39;49m\u001b[43mto_list\u001b[49m\u001b[43m(\u001b[49m\u001b[43m)\u001b[49m\u001b[43m,\u001b[49m\u001b[43m \u001b[49m\u001b[43mdf\u001b[49m\u001b[38;5;241;43m.\u001b[39;49m\u001b[43mloc\u001b[49m\u001b[43m[\u001b[49m\u001b[43m:\u001b[49m\u001b[43m,\u001b[49m\u001b[43m \u001b[49m\u001b[38;5;124;43m'\u001b[39;49m\u001b[38;5;124;43moutput\u001b[39;49m\u001b[38;5;124;43m'\u001b[39;49m\u001b[43m]\u001b[49m\u001b[38;5;241;43m.\u001b[39;49m\u001b[43mto_list\u001b[49m\u001b[43m(\u001b[49m\u001b[43m)\u001b[49m\u001b[43m,\u001b[49m\u001b[43m \u001b[49m\u001b[43mlang\u001b[49m\u001b[38;5;241;43m=\u001b[39;49m\u001b[38;5;124;43m'\u001b[39;49m\u001b[38;5;124;43mpython\u001b[39;49m\u001b[38;5;124;43m'\u001b[39;49m\u001b[43m)\u001b[49m\n",
      "File \u001b[0;32m~/miniconda3/envs/JB_test/lib/python3.12/site-packages/codebleu/codebleu.py:41\u001b[0m, in \u001b[0;36mcalc_codebleu\u001b[0;34m(references, predictions, lang, weights, tokenizer, keywords_dir)\u001b[0m\n\u001b[1;32m     38\u001b[0m \u001b[38;5;28;01massert\u001b[39;00m keywords_dir\u001b[38;5;241m.\u001b[39mexists(), \u001b[38;5;124mf\u001b[39m\u001b[38;5;124m\"\u001b[39m\u001b[38;5;124mkeywords_dir \u001b[39m\u001b[38;5;132;01m{\u001b[39;00mkeywords_dir\u001b[38;5;132;01m}\u001b[39;00m\u001b[38;5;124m does not exist\u001b[39m\u001b[38;5;124m\"\u001b[39m\n\u001b[1;32m     40\u001b[0m \u001b[38;5;66;03m# get the tree-sitter language for a given language\u001b[39;00m\n\u001b[0;32m---> 41\u001b[0m tree_sitter_language \u001b[38;5;241m=\u001b[39m \u001b[43mget_tree_sitter_language\u001b[49m\u001b[43m(\u001b[49m\u001b[43mlang\u001b[49m\u001b[43m)\u001b[49m\n\u001b[1;32m     43\u001b[0m \u001b[38;5;66;03m# preprocess inputs\u001b[39;00m\n\u001b[1;32m     44\u001b[0m references \u001b[38;5;241m=\u001b[39m [[x\u001b[38;5;241m.\u001b[39mstrip() \u001b[38;5;28;01mfor\u001b[39;00m x \u001b[38;5;129;01min\u001b[39;00m ref] \u001b[38;5;28;01mif\u001b[39;00m \u001b[38;5;28misinstance\u001b[39m(ref, \u001b[38;5;28mlist\u001b[39m) \u001b[38;5;28;01melse\u001b[39;00m [ref\u001b[38;5;241m.\u001b[39mstrip()] \u001b[38;5;28;01mfor\u001b[39;00m ref \u001b[38;5;129;01min\u001b[39;00m references]\n",
      "File \u001b[0;32m~/miniconda3/envs/JB_test/lib/python3.12/site-packages/codebleu/utils.py:163\u001b[0m, in \u001b[0;36mget_tree_sitter_language\u001b[0;34m(lang)\u001b[0m\n\u001b[1;32m    160\u001b[0m \u001b[38;5;28;01melif\u001b[39;00m lang \u001b[38;5;241m==\u001b[39m \u001b[38;5;124m\"\u001b[39m\u001b[38;5;124mpython\u001b[39m\u001b[38;5;124m\"\u001b[39m:\n\u001b[1;32m    161\u001b[0m     \u001b[38;5;28;01mimport\u001b[39;00m \u001b[38;5;21;01mtree_sitter_python\u001b[39;00m\n\u001b[0;32m--> 163\u001b[0m     \u001b[38;5;28;01mreturn\u001b[39;00m \u001b[43mLanguage\u001b[49m\u001b[43m(\u001b[49m\u001b[43mtree_sitter_python\u001b[49m\u001b[38;5;241;43m.\u001b[39;49m\u001b[43mlanguage\u001b[49m\u001b[43m(\u001b[49m\u001b[43m)\u001b[49m\u001b[43m)\u001b[49m\n\u001b[1;32m    164\u001b[0m \u001b[38;5;28;01melif\u001b[39;00m lang \u001b[38;5;241m==\u001b[39m \u001b[38;5;124m\"\u001b[39m\u001b[38;5;124mgo\u001b[39m\u001b[38;5;124m\"\u001b[39m:\n\u001b[1;32m    165\u001b[0m     \u001b[38;5;28;01mimport\u001b[39;00m \u001b[38;5;21;01mtree_sitter_go\u001b[39;00m\n",
      "\u001b[0;31mTypeError\u001b[0m: an integer is required"
     ]
    }
   ],
   "source": [
    "calc_codebleu(df.loc[:, 'middle'].to_list(), df.loc[:, 'output'].to_list(), lang='python')"
   ]
  },
  {
   "cell_type": "code",
   "execution_count": null,
   "metadata": {},
   "outputs": [],
   "source": []
  }
 ],
 "metadata": {
  "kernelspec": {
   "display_name": "JB_test",
   "language": "python",
   "name": "python3"
  },
  "language_info": {
   "codemirror_mode": {
    "name": "ipython",
    "version": 3
   },
   "file_extension": ".py",
   "mimetype": "text/x-python",
   "name": "python",
   "nbconvert_exporter": "python",
   "pygments_lexer": "ipython3",
   "version": "3.12.7"
  }
 },
 "nbformat": 4,
 "nbformat_minor": 2
}
